{
  "nbformat": 4,
  "nbformat_minor": 0,
  "metadata": {
    "colab": {
      "name": "Glasses or No Glasses Project.ipynb",
      "provenance": [],
      "collapsed_sections": [
        "uprtBNkq_4tS",
        "6rCk3A6DAJuB",
        "qZf_vU-IARNZ",
        "FnxAsTAIAuWB",
        "S5DcFKNqGo6h",
        "D8ah3hewHBKi",
        "1iNU2b04HMwC",
        "87nYS1GZvJk2",
        "8gwp83tvwBsm",
        "N5pr1edJwEZX",
        "Uemeo2fEQB0G",
        "DM1ePbTkRqQl",
        "FguFr8IflBwY"
      ],
      "toc_visible": true,
      "include_colab_link": true
    },
    "kernelspec": {
      "name": "python3",
      "display_name": "Python 3"
    },
    "language_info": {
      "name": "python"
    },
    "accelerator": "GPU"
  },
  "cells": [
    {
      "cell_type": "markdown",
      "metadata": {
        "id": "view-in-github",
        "colab_type": "text"
      },
      "source": [
        "<a href=\"https://colab.research.google.com/github/Kidara/AMD-SM2L-2020-21-project/blob/main/Glasses_or_No_Glasses_Project.ipynb\" target=\"_parent\"><img src=\"https://colab.research.google.com/assets/colab-badge.svg\" alt=\"Open In Colab\"/></a>"
      ]
    },
    {
      "cell_type": "markdown",
      "metadata": {
        "id": "ZYzYh7fIVBtR"
      },
      "source": [
        "# Provide an authentication 'kaggle.json' file"
      ]
    },
    {
      "cell_type": "code",
      "metadata": {
        "id": "-BPt-htiVEjY"
      },
      "source": [
        "from google.colab import files\n",
        "files.upload()\n",
        "!mkdir ~/.kaggle\n",
        "!cp kaggle.json ~/.kaggle/\n",
        "!chmod 600 ~/.kaggle/kaggle.json"
      ],
      "execution_count": null,
      "outputs": []
    },
    {
      "cell_type": "markdown",
      "metadata": {
        "id": "uprtBNkq_4tS"
      },
      "source": [
        "# INIT"
      ]
    },
    {
      "cell_type": "code",
      "metadata": {
        "colab": {
          "base_uri": "https://localhost:8080/",
          "height": 200
        },
        "id": "dNIXg-2mbY2W",
        "cellView": "form",
        "outputId": "6c76c0d1-3922-4302-b85b-980a901ad2c4"
      },
      "source": [
        "#@markdown Install dependencies\n",
        "from IPython import display\n",
        "\n",
        "!pip install kaggle\n",
        "!pip install dask\n",
        "!pip install 'fsspec>=0.3.3'\n",
        "!pip install keras-tuner\n",
        "!pip install split-folders\n",
        "!pip install visualkeras\n",
        "\n",
        "display.Javascript(\"google.colab.output.setIframeHeight('200px');\")"
      ],
      "execution_count": null,
      "outputs": [
        {
          "output_type": "stream",
          "text": [
            "Requirement already satisfied: kaggle in /usr/local/lib/python3.7/dist-packages (1.5.12)\n",
            "Requirement already satisfied: requests in /usr/local/lib/python3.7/dist-packages (from kaggle) (2.23.0)\n",
            "Requirement already satisfied: six>=1.10 in /usr/local/lib/python3.7/dist-packages (from kaggle) (1.15.0)\n",
            "Requirement already satisfied: python-dateutil in /usr/local/lib/python3.7/dist-packages (from kaggle) (2.8.1)\n",
            "Requirement already satisfied: certifi in /usr/local/lib/python3.7/dist-packages (from kaggle) (2021.5.30)\n",
            "Requirement already satisfied: urllib3 in /usr/local/lib/python3.7/dist-packages (from kaggle) (1.24.3)\n",
            "Requirement already satisfied: tqdm in /usr/local/lib/python3.7/dist-packages (from kaggle) (4.41.1)\n",
            "Requirement already satisfied: python-slugify in /usr/local/lib/python3.7/dist-packages (from kaggle) (5.0.2)\n",
            "Requirement already satisfied: idna<3,>=2.5 in /usr/local/lib/python3.7/dist-packages (from requests->kaggle) (2.10)\n",
            "Requirement already satisfied: chardet<4,>=3.0.2 in /usr/local/lib/python3.7/dist-packages (from requests->kaggle) (3.0.4)\n",
            "Requirement already satisfied: text-unidecode>=1.3 in /usr/local/lib/python3.7/dist-packages (from python-slugify->kaggle) (1.3)\n",
            "Requirement already satisfied: dask in /usr/local/lib/python3.7/dist-packages (2.12.0)\n",
            "Collecting fsspec>=0.3.3\n",
            "\u001b[?25l  Downloading https://files.pythonhosted.org/packages/0e/3a/666e63625a19883ae8e1674099e631f9737bd5478c4790e5ad49c5ac5261/fsspec-2021.6.1-py3-none-any.whl (115kB)\n",
            "\u001b[K     |████████████████████████████████| 122kB 7.8MB/s \n",
            "\u001b[?25hInstalling collected packages: fsspec\n",
            "Successfully installed fsspec-2021.6.1\n",
            "Collecting keras-tuner\n",
            "\u001b[?25l  Downloading https://files.pythonhosted.org/packages/a2/ba/c7a7cda64b67846bde66ffdaaf3199a79d4e35ab6b6f170cc1b7d235646e/keras_tuner-1.0.3-py3-none-any.whl (96kB)\n",
            "\u001b[K     |████████████████████████████████| 102kB 5.8MB/s \n",
            "\u001b[?25hCollecting kt-legacy\n",
            "  Downloading https://files.pythonhosted.org/packages/76/c7/7ebe02ef2495b84a47dc92a4e943260b264b6546783ca23e451bcd8c09c1/kt-legacy-1.0.3.tar.gz\n",
            "Requirement already satisfied: tensorboard in /usr/local/lib/python3.7/dist-packages (from keras-tuner) (2.5.0)\n",
            "Requirement already satisfied: requests in /usr/local/lib/python3.7/dist-packages (from keras-tuner) (2.23.0)\n",
            "Requirement already satisfied: ipython in /usr/local/lib/python3.7/dist-packages (from keras-tuner) (5.5.0)\n",
            "Requirement already satisfied: packaging in /usr/local/lib/python3.7/dist-packages (from keras-tuner) (20.9)\n",
            "Requirement already satisfied: numpy in /usr/local/lib/python3.7/dist-packages (from keras-tuner) (1.19.5)\n",
            "Requirement already satisfied: scipy in /usr/local/lib/python3.7/dist-packages (from keras-tuner) (1.4.1)\n",
            "Requirement already satisfied: wheel>=0.26; python_version >= \"3\" in /usr/local/lib/python3.7/dist-packages (from tensorboard->keras-tuner) (0.36.2)\n",
            "Requirement already satisfied: google-auth<2,>=1.6.3 in /usr/local/lib/python3.7/dist-packages (from tensorboard->keras-tuner) (1.32.1)\n",
            "Requirement already satisfied: google-auth-oauthlib<0.5,>=0.4.1 in /usr/local/lib/python3.7/dist-packages (from tensorboard->keras-tuner) (0.4.4)\n",
            "Requirement already satisfied: tensorboard-data-server<0.7.0,>=0.6.0 in /usr/local/lib/python3.7/dist-packages (from tensorboard->keras-tuner) (0.6.1)\n",
            "Requirement already satisfied: werkzeug>=0.11.15 in /usr/local/lib/python3.7/dist-packages (from tensorboard->keras-tuner) (1.0.1)\n",
            "Requirement already satisfied: tensorboard-plugin-wit>=1.6.0 in /usr/local/lib/python3.7/dist-packages (from tensorboard->keras-tuner) (1.8.0)\n",
            "Requirement already satisfied: setuptools>=41.0.0 in /usr/local/lib/python3.7/dist-packages (from tensorboard->keras-tuner) (57.0.0)\n",
            "Requirement already satisfied: grpcio>=1.24.3 in /usr/local/lib/python3.7/dist-packages (from tensorboard->keras-tuner) (1.34.1)\n",
            "Requirement already satisfied: absl-py>=0.4 in /usr/local/lib/python3.7/dist-packages (from tensorboard->keras-tuner) (0.12.0)\n",
            "Requirement already satisfied: protobuf>=3.6.0 in /usr/local/lib/python3.7/dist-packages (from tensorboard->keras-tuner) (3.17.3)\n",
            "Requirement already satisfied: markdown>=2.6.8 in /usr/local/lib/python3.7/dist-packages (from tensorboard->keras-tuner) (3.3.4)\n",
            "Requirement already satisfied: certifi>=2017.4.17 in /usr/local/lib/python3.7/dist-packages (from requests->keras-tuner) (2021.5.30)\n",
            "Requirement already satisfied: idna<3,>=2.5 in /usr/local/lib/python3.7/dist-packages (from requests->keras-tuner) (2.10)\n",
            "Requirement already satisfied: chardet<4,>=3.0.2 in /usr/local/lib/python3.7/dist-packages (from requests->keras-tuner) (3.0.4)\n",
            "Requirement already satisfied: urllib3!=1.25.0,!=1.25.1,<1.26,>=1.21.1 in /usr/local/lib/python3.7/dist-packages (from requests->keras-tuner) (1.24.3)\n",
            "Requirement already satisfied: decorator in /usr/local/lib/python3.7/dist-packages (from ipython->keras-tuner) (4.4.2)\n",
            "Requirement already satisfied: simplegeneric>0.8 in /usr/local/lib/python3.7/dist-packages (from ipython->keras-tuner) (0.8.1)\n",
            "Requirement already satisfied: traitlets>=4.2 in /usr/local/lib/python3.7/dist-packages (from ipython->keras-tuner) (5.0.5)\n",
            "Requirement already satisfied: prompt-toolkit<2.0.0,>=1.0.4 in /usr/local/lib/python3.7/dist-packages (from ipython->keras-tuner) (1.0.18)\n",
            "Requirement already satisfied: pygments in /usr/local/lib/python3.7/dist-packages (from ipython->keras-tuner) (2.6.1)\n",
            "Requirement already satisfied: pickleshare in /usr/local/lib/python3.7/dist-packages (from ipython->keras-tuner) (0.7.5)\n",
            "Requirement already satisfied: pexpect; sys_platform != \"win32\" in /usr/local/lib/python3.7/dist-packages (from ipython->keras-tuner) (4.8.0)\n",
            "Requirement already satisfied: pyparsing>=2.0.2 in /usr/local/lib/python3.7/dist-packages (from packaging->keras-tuner) (2.4.7)\n",
            "Requirement already satisfied: six>=1.9.0 in /usr/local/lib/python3.7/dist-packages (from google-auth<2,>=1.6.3->tensorboard->keras-tuner) (1.15.0)\n",
            "Requirement already satisfied: rsa<5,>=3.1.4; python_version >= \"3.6\" in /usr/local/lib/python3.7/dist-packages (from google-auth<2,>=1.6.3->tensorboard->keras-tuner) (4.7.2)\n",
            "Requirement already satisfied: cachetools<5.0,>=2.0.0 in /usr/local/lib/python3.7/dist-packages (from google-auth<2,>=1.6.3->tensorboard->keras-tuner) (4.2.2)\n",
            "Requirement already satisfied: pyasn1-modules>=0.2.1 in /usr/local/lib/python3.7/dist-packages (from google-auth<2,>=1.6.3->tensorboard->keras-tuner) (0.2.8)\n",
            "Requirement already satisfied: requests-oauthlib>=0.7.0 in /usr/local/lib/python3.7/dist-packages (from google-auth-oauthlib<0.5,>=0.4.1->tensorboard->keras-tuner) (1.3.0)\n",
            "Requirement already satisfied: importlib-metadata; python_version < \"3.8\" in /usr/local/lib/python3.7/dist-packages (from markdown>=2.6.8->tensorboard->keras-tuner) (4.6.0)\n",
            "Requirement already satisfied: ipython-genutils in /usr/local/lib/python3.7/dist-packages (from traitlets>=4.2->ipython->keras-tuner) (0.2.0)\n",
            "Requirement already satisfied: wcwidth in /usr/local/lib/python3.7/dist-packages (from prompt-toolkit<2.0.0,>=1.0.4->ipython->keras-tuner) (0.2.5)\n",
            "Requirement already satisfied: ptyprocess>=0.5 in /usr/local/lib/python3.7/dist-packages (from pexpect; sys_platform != \"win32\"->ipython->keras-tuner) (0.7.0)\n",
            "Requirement already satisfied: pyasn1>=0.1.3 in /usr/local/lib/python3.7/dist-packages (from rsa<5,>=3.1.4; python_version >= \"3.6\"->google-auth<2,>=1.6.3->tensorboard->keras-tuner) (0.4.8)\n",
            "Requirement already satisfied: oauthlib>=3.0.0 in /usr/local/lib/python3.7/dist-packages (from requests-oauthlib>=0.7.0->google-auth-oauthlib<0.5,>=0.4.1->tensorboard->keras-tuner) (3.1.1)\n",
            "Requirement already satisfied: zipp>=0.5 in /usr/local/lib/python3.7/dist-packages (from importlib-metadata; python_version < \"3.8\"->markdown>=2.6.8->tensorboard->keras-tuner) (3.4.1)\n",
            "Requirement already satisfied: typing-extensions>=3.6.4; python_version < \"3.8\" in /usr/local/lib/python3.7/dist-packages (from importlib-metadata; python_version < \"3.8\"->markdown>=2.6.8->tensorboard->keras-tuner) (3.7.4.3)\n",
            "Building wheels for collected packages: kt-legacy\n",
            "  Building wheel for kt-legacy (setup.py) ... \u001b[?25l\u001b[?25hdone\n",
            "  Created wheel for kt-legacy: filename=kt_legacy-1.0.3-cp37-none-any.whl size=9569 sha256=e8cc00fd52d2f44585be7a43aa4bd4eaddf267783c03e92695a90a4caafa9282\n",
            "  Stored in directory: /root/.cache/pip/wheels/95/99/a8/6b116b0f69be60cc475d1cd36680f3a09f284d86655bb99d93\n",
            "Successfully built kt-legacy\n",
            "Installing collected packages: kt-legacy, keras-tuner\n",
            "Successfully installed keras-tuner-1.0.3 kt-legacy-1.0.3\n",
            "Collecting split-folders\n",
            "  Downloading https://files.pythonhosted.org/packages/b8/5f/3c2b2f7ea5e047c8cdc3bb00ae582c5438fcdbbedcc23b3cc1c2c7aae642/split_folders-0.4.3-py3-none-any.whl\n",
            "Installing collected packages: split-folders\n",
            "Successfully installed split-folders-0.4.3\n",
            "Collecting visualkeras\n",
            "  Downloading https://files.pythonhosted.org/packages/a5/93/abd375b37add77d58a8c48a506ae39bb77c4380e2507ea444325ff1b9971/visualkeras-0.0.2-py3-none-any.whl\n",
            "Requirement already satisfied: numpy>=1.18.1 in /usr/local/lib/python3.7/dist-packages (from visualkeras) (1.19.5)\n",
            "Requirement already satisfied: pillow>=6.2.0 in /usr/local/lib/python3.7/dist-packages (from visualkeras) (7.1.2)\n",
            "Collecting aggdraw>=1.3.11\n",
            "\u001b[?25l  Downloading https://files.pythonhosted.org/packages/34/ca/440addbccb916f7f68a78484eff953917c59fc2e41b2440f9be327742e39/aggdraw-1.3.12-cp37-cp37m-manylinux2010_x86_64.whl (795kB)\n",
            "\u001b[K     |████████████████████████████████| 798kB 8.4MB/s \n",
            "\u001b[?25hInstalling collected packages: aggdraw, visualkeras\n",
            "Successfully installed aggdraw-1.3.12 visualkeras-0.0.2\n"
          ],
          "name": "stdout"
        },
        {
          "output_type": "execute_result",
          "data": {
            "application/javascript": [
              "google.colab.output.setIframeHeight('200px');"
            ],
            "text/plain": [
              "<IPython.core.display.Javascript object>"
            ]
          },
          "metadata": {
            "tags": []
          },
          "execution_count": 1
        }
      ]
    },
    {
      "cell_type": "code",
      "metadata": {
        "id": "0PeZQ5Vkba_N",
        "cellView": "form"
      },
      "source": [
        "#@markdown Imports\n",
        "\n",
        "import sys, shutil, os, portpicker, gc, time, glob, pickle\n",
        "\n",
        "import numpy as np\n",
        "import pandas as pd\n",
        "from dask import dataframe as dd\n",
        "\n",
        "import matplotlib.pyplot as plt\n",
        "import seaborn as sns\n",
        "\n",
        "import tensorflow as tf\n",
        "from tensorflow import keras\n",
        "import keras.backend as K\n",
        "from keras import Input, Model, Sequential\n",
        "from keras.layers import Dense, Dropout, Concatenate, Activation,\\\n",
        "      LayerNormalization, BatchNormalization, Rescaling\n",
        "from keras.preprocessing.image import ImageDataGenerator,\\\n",
        "      image_dataset_from_directory\n",
        "from keras import regularizers, activations\n",
        "from keras.optimizers import Adam, RMSprop\n",
        "from keras.callbacks import EarlyStopping, ModelCheckpoint, ProgbarLogger\n",
        "from keras.utils.vis_utils import plot_model\n",
        "\n",
        "import keras_tuner as kt\n",
        "import splitfolders\n",
        "from sklearn.model_selection import train_test_split\n",
        "\n",
        "import visualkeras\n",
        "\n",
        "%matplotlib inline"
      ],
      "execution_count": null,
      "outputs": []
    },
    {
      "cell_type": "markdown",
      "metadata": {
        "id": "6rCk3A6DAJuB"
      },
      "source": [
        "# Download dataset\n",
        "Provide an authentication 'kaggle.json' file"
      ]
    },
    {
      "cell_type": "code",
      "metadata": {
        "colab": {
          "resources": {
            "http://localhost:8080/nbextensions/google.colab/files.js": {
              "data": "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",
              "ok": true,
              "headers": [
                [
                  "content-type",
                  "application/javascript"
                ]
              ],
              "status": 200,
              "status_text": ""
            }
          },
          "base_uri": "https://localhost:8080/"
        },
        "id": "zUcNhYgL16F-",
        "outputId": "d33af3aa-4ea4-4a77-ad7e-1b96578eb31e"
      },
      "source": [
        "!kaggle datasets download -d jeffheaton/glasses-or-no-glasses"
      ],
      "execution_count": null,
      "outputs": [
        {
          "output_type": "display_data",
          "data": {
            "text/html": [
              "\n",
              "     <input type=\"file\" id=\"files-4b3b7a8f-303c-4ca2-b93b-0f779bde9c3b\" name=\"files[]\" multiple disabled\n",
              "        style=\"border:none\" />\n",
              "     <output id=\"result-4b3b7a8f-303c-4ca2-b93b-0f779bde9c3b\">\n",
              "      Upload widget is only available when the cell has been executed in the\n",
              "      current browser session. Please rerun this cell to enable.\n",
              "      </output>\n",
              "      <script src=\"/nbextensions/google.colab/files.js\"></script> "
            ],
            "text/plain": [
              "<IPython.core.display.HTML object>"
            ]
          },
          "metadata": {
            "tags": []
          }
        },
        {
          "output_type": "stream",
          "text": [
            "Saving kaggle.json to kaggle.json\n",
            "Downloading glasses-or-no-glasses.zip to /content\n",
            "100% 6.11G/6.11G [02:10<00:00, 60.2MB/s]\n",
            "100% 6.11G/6.11G [02:11<00:00, 50.1MB/s]\n"
          ],
          "name": "stdout"
        }
      ]
    },
    {
      "cell_type": "code",
      "metadata": {
        "id": "ntVjHUM12lT1"
      },
      "source": [
        "!unzip -q glasses-or-no-glasses.zip -d glasses-or-no-glasses"
      ],
      "execution_count": null,
      "outputs": []
    },
    {
      "cell_type": "code",
      "metadata": {
        "id": "QyhtcAz5YhkX"
      },
      "source": [
        "#Remove zip file to free space\n",
        "if os.path.exists('./glasses-or-no-glasses') and os.path.exists('./glasses-or-no-glasses.zip'):\n",
        "  !rm glasses-or-no-glasses.zip"
      ],
      "execution_count": null,
      "outputs": []
    },
    {
      "cell_type": "markdown",
      "metadata": {
        "id": "qZf_vU-IARNZ"
      },
      "source": [
        "# Prepare dataset"
      ]
    },
    {
      "cell_type": "code",
      "metadata": {
        "id": "EkAijhgBamxP",
        "cellView": "form"
      },
      "source": [
        "#@markdown Load CSV\n",
        "# Load CSV with Dask to perform distributed loading and lazy evaluation, without\n",
        "# storing the whole CSV in memory\n",
        "latent_features_csv = dd.read_csv(\"./glasses-or-no-glasses/train.csv\")"
      ],
      "execution_count": null,
      "outputs": []
    },
    {
      "cell_type": "code",
      "metadata": {
        "id": "ib-OvrEN63Xs",
        "cellView": "form"
      },
      "source": [
        "#@markdown Divide images in glasses and no-glasses folders\n",
        "\n",
        "old_path = './glasses-or-no-glasses/faces-spring-2020/faces-spring-2020/'\n",
        "\n",
        "path = './images/glasses'\n",
        "if not os.path.exists(path):\n",
        "    os.makedirs(path)\n",
        "path = './images/no-glasses'\n",
        "if not os.path.exists(path):\n",
        "    os.makedirs(path)\n",
        "\n",
        "# We assume that ['id','glasses'] can fit all in memory\n",
        "for glasses_label in latent_features_csv[['id','glasses']].iterrows():\n",
        "    old_image_path = os.path.join(old_path, 'face-' + str(glasses_label[1][0]) + '.png')\n",
        "    new_path = ''\n",
        "    if glasses_label[1][1] == 0:\n",
        "        new_path = './images/no-glasses'\n",
        "    else:\n",
        "        new_path = './images/glasses'\n",
        "    new_image_path = os.path.join(new_path, str(glasses_label[1][0]) + '.png')\n",
        "    shutil.copyfile(old_image_path, new_image_path)"
      ],
      "execution_count": null,
      "outputs": []
    },
    {
      "cell_type": "code",
      "metadata": {
        "id": "lL6vAGKYoxal",
        "cellView": "form"
      },
      "source": [
        "#@markdown Check unbalancedness of data\n",
        "n_glasses = latent_features_csv['glasses'].sum()\n",
        "n_total = latent_features_csv['glasses'].count()\n",
        "glasses_over_total = (n_glasses/n_total).compute()\n",
        "print(\"There are {:.2f} 'glasses' labels every 'no glasses' label.\"\\\n",
        "      .format(glasses_over_total/(1-glasses_over_total)))\n",
        "print(\"The dataset is not so unbalanced, we can keep it as it is.\")"
      ],
      "execution_count": null,
      "outputs": []
    },
    {
      "cell_type": "code",
      "metadata": {
        "colab": {
          "base_uri": "https://localhost:8080/"
        },
        "id": "GBGJnoRlf6BK",
        "cellView": "form",
        "outputId": "048d8131-8d01-4359-e324-e404d35bcb42"
      },
      "source": [
        "#@markdown We split images in 'train' 'val' 'test' folders due to the data\n",
        "#@markdown pipeline used later.\n",
        "\n",
        "RANDOM_SEED = 1337 #@param\n",
        "\n",
        "path = './glasses-or-no-glasses/faces-spring-2020'\n",
        "if os.path.exists(path):\n",
        "    shutil.rmtree(path)\n",
        "path = './images_train-val-test'\n",
        "if os.path.exists(path):\n",
        "    shutil.rmtree(path)\n",
        "splitfolders.ratio(\"images\", output=\"images_train-val-test\", seed=RANDOM_SEED,\\\n",
        "                   ratio=(.8, .1, .1), group_prefix=None)"
      ],
      "execution_count": null,
      "outputs": [
        {
          "output_type": "stream",
          "text": [
            "Copying files: 4500 files [02:20, 31.93 files/s]\n"
          ],
          "name": "stderr"
        }
      ]
    },
    {
      "cell_type": "markdown",
      "metadata": {
        "id": "FnxAsTAIAuWB"
      },
      "source": [
        "# Image size analysis"
      ]
    },
    {
      "cell_type": "markdown",
      "metadata": {
        "id": "G9KurSzGzU9R"
      },
      "source": [
        "We create a python script to send it to the replicas for distributed computing.  \n",
        "We also expose the image size parameter as a command line argument, in order to test different size configurations.  \n",
        "For this step we keep the number of random trials as low as possible, since it already take a long time."
      ]
    },
    {
      "cell_type": "code",
      "metadata": {
        "colab": {
          "base_uri": "https://localhost:8080/"
        },
        "id": "wwP0prygiasY",
        "cellView": "form",
        "outputId": "2df2c058-f01e-4745-e902-34f499af1a4f"
      },
      "source": [
        "#@title main.py\n",
        "%%writefile main.py\n",
        "\n",
        "import sys, os, shutil, glob\n",
        "import pandas as pd\n",
        "import matplotlib.pyplot as plt\n",
        "import tensorflow as tf\n",
        "from tensorflow import keras\n",
        "from keras import Input, Sequential\n",
        "from keras.preprocessing.image import image_dataset_from_directory\n",
        "#from keras.layers import InputLayer, Dense, ReLU, Conv2D, MaxPooling2D,\\\n",
        "#    AveragePooling2D, GlobalMaxPooling2D, GlobalAveragePooling2D\n",
        "from keras.layers.experimental.preprocessing import Resizing, Rescaling,\\\n",
        "    RandomFlip, RandomTranslation, RandomRotation, RandomZoom, RandomContrast\n",
        "from keras.callbacks import EarlyStopping, TensorBoard\n",
        "import keras_tuner as kt\n",
        "\n",
        "\n",
        "print(\"KerasTuner Tuner ID: {}\".format(os.environ['KERASTUNER_TUNER_ID']))\n",
        "print(\"KerasTuner Oracle IP: {}\".format(os.environ['KERASTUNER_ORACLE_IP']))\n",
        "print(\"KerasTuner Oracle Port: {}\".format(os.environ['KERASTUNER_ORACLE_PORT']))\n",
        "\n",
        "\n",
        "#######################################\n",
        "############ SET VARIABLES ############\n",
        "#######################################\n",
        "strategy = tf.distribute.MirroredStrategy()\n",
        "\n",
        "#@markdown Preprocessing:\n",
        "IMAGE_DIM = 64 #@param {type:\"integer\"}\n",
        "if len(sys.argv)>1:\n",
        "    IMAGE_DIM = int(sys.argv[1]) #Override IMAGE_DIM when launching the script\n",
        "BATCH_SIZE_PER_REPLICA =  16#@param {type:\"integer\"}\n",
        "BATCH_SIZE = BATCH_SIZE_PER_REPLICA * strategy.num_replicas_in_sync\n",
        "\n",
        "TRAINING_DIR = './images_train-val-test/train' #@param {type:\"string\"}\n",
        "VALIDATION_DIR = './images_train-val-test/val' #@param {type:\"string\"}\n",
        "\n",
        "RECACHE = False #@param {type:\"boolean\"}\n",
        "TRAIN_CACHE_PATH = './train_cache_' #@param {type:\"string\"}\n",
        "VAL_CACHE_PATH = './validation_cache_' #@param {type:\"string\"}\n",
        "\n",
        "#@markdown Keras Tuner:\n",
        "RANDOM_TRIALS =  5 #@param {type:\"integer\"}\n",
        "RANDOM_SEED = 1337 #@param {type:\"integer\"}\n",
        "EPOCHS = 50 #@param {type:\"integer\"}\n",
        "EARLYSTOPPING_PATIENCE = 5 #@param {type:\"integer\"}\n",
        "#######################################\n",
        "#######################################\n",
        "\n",
        "\n",
        "#######################################\n",
        "########## HELPER FUNCTIONS ###########\n",
        "#######################################\n",
        "def get_train_val_datasets(image_dim, batch_size, training_dir, validation_dir,\n",
        "                           recache, train_cache_path, val_cache_path):\n",
        "    \n",
        "    train_cache_path = train_cache_path + str(image_dim)\n",
        "    val_cache_path = val_cache_path + str(image_dim)\n",
        "\n",
        "    #Since caching doesn't overwrite old cache,\n",
        "    #we need to clear old cache before writing it again\n",
        "    if(recache):\n",
        "        for f in glob.glob(train_cache_path+\".*\"):\n",
        "            if os.path.exists(f):\n",
        "                os.remove(f)\n",
        "        for f in glob.glob(val_cache_path+\".*\"):\n",
        "            if os.path.exists(f):\n",
        "                os.remove(f)\n",
        "\n",
        "    rescale = keras.Sequential([\n",
        "        #Normalize values between 0 and 1\n",
        "        Rescaling(1./255)\n",
        "    ])\n",
        "\n",
        "    train_ds = image_dataset_from_directory(\n",
        "        directory=training_dir,\n",
        "        labels='inferred',\n",
        "        label_mode='binary',\n",
        "        batch_size=batch_size,\n",
        "        #resizing is done in the dataset to reduce the data sent to the replicas\n",
        "        image_size=(image_dim, image_dim),\n",
        "        interpolation='nearest')\n",
        "    train_ds = train_ds.map(lambda image, label:\\\n",
        "                            (rescale(image, training=True), label),\n",
        "                            num_parallel_calls=tf.data.AUTOTUNE)\n",
        "    #caching to file speeds up consequent readings (used with small dataset)\n",
        "    train_ds = train_ds.cache(train_cache_path)\n",
        "    train_ds = train_ds.shuffle(buffer_size=batch_size)\n",
        "    #prefetch makes CPU work in parallel with GPU\n",
        "    train_ds = train_ds.prefetch(buffer_size=tf.data.AUTOTUNE)\n",
        "\n",
        "    validation_ds = image_dataset_from_directory(\n",
        "        directory=validation_dir,\n",
        "        labels='inferred',\n",
        "        label_mode='binary',\n",
        "        batch_size=batch_size,\n",
        "        image_size=(image_dim, image_dim),\n",
        "        interpolation='nearest')\n",
        "    validation_ds = validation_ds.map(lambda image, label:\\\n",
        "                                      (rescale(image, training=True), label),\n",
        "                                      num_parallel_calls=tf.data.AUTOTUNE)\n",
        "    validation_ds = validation_ds.cache(val_cache_path)\n",
        "    validation_ds = validation_ds.prefetch(buffer_size=tf.data.AUTOTUNE)\n",
        "    \n",
        "    return train_ds, validation_ds\n",
        "\n",
        "\n",
        "def augmentation_model():\n",
        "    input = keras.Input(shape=(IMAGE_DIM, IMAGE_DIM, 3))\n",
        "\n",
        "    #Augmentation layers (they are automatically disabled during testing)\n",
        "    x = RandomFlip(mode=\"horizontal\")(input)\n",
        "    x = RandomTranslation(height_factor=0.2,\n",
        "                          width_factor=0.2,\n",
        "                          fill_mode=\"reflect\")(x)\n",
        "    x = RandomRotation(factor=0.125, #Max +-45degrees\n",
        "                       fill_mode=\"reflect\")(x)\n",
        "    x = RandomZoom(height_factor=0.25)(x)\n",
        "\n",
        "    return tf.keras.Model(input,x)\n",
        "\n",
        "\n",
        "def plot_augmented_images(dataset):\n",
        "    samples = dataset.take(1)\n",
        "    augmentation = augmentation_model()\n",
        "\n",
        "    for sample in samples:\n",
        "        images = sample[0]\n",
        "        aug_images = augmentation(images)\n",
        "        for image in aug_images:\n",
        "            plt.imshow((image*255).numpy().astype(np.uint8))\n",
        "            plt.show()\n",
        "\n",
        "\n",
        "def build_model(hp):\n",
        "    input = keras.Input(shape=(IMAGE_DIM, IMAGE_DIM, 3))\n",
        "  \n",
        "    augmentation = augmentation_model()\n",
        "    x = augmentation(input)\n",
        "\n",
        "    for i in range(hp.Int(\"conv_layers\", 1, 5, default=5)):\n",
        "        x = keras.layers.Conv2D(\n",
        "                filters=hp.Int(\"filters_\" + str(i), 8, 64, step=8, default=16),\n",
        "                kernel_size=3,\n",
        "                activation=\"relu\",\n",
        "                padding=\"same\",\n",
        "            )(x)\n",
        "\n",
        "        if hp.Choice(\"pooling_\" + str(i), [\"max\", \"avg\"]) == \"max\":\n",
        "            x = keras.layers.MaxPooling2D()(x)\n",
        "        else:\n",
        "            x = keras.layers.AveragePooling2D()(x)\n",
        "\n",
        "        x = keras.layers.BatchNormalization()(x)\n",
        "        x = keras.layers.ReLU()(x)\n",
        "\n",
        "    if hp.Choice(\"global_pooling\", [\"max\", \"avg\"]) == \"max\":\n",
        "        x = keras.layers.GlobalMaxPooling2D()(x)\n",
        "    else:\n",
        "        x = keras.layers.GlobalAveragePooling2D()(x)\n",
        "    x = keras.layers.Dense(8, activation=\"relu\")(x)\n",
        "    output = keras.layers.Dense(1, activation=\"sigmoid\")(x)\n",
        "\n",
        "    model = keras.Model(input, output)\n",
        "\n",
        "    optimizer = hp.Choice(\"optimizer\", [\"adam\", \"sgd\"])\n",
        "    model.compile(optimizer, loss=\"binary_crossentropy\", metrics=[\"accuracy\"])\n",
        "\n",
        "    return model\n",
        "#######################################\n",
        "#######################################\n",
        "\n",
        "\n",
        "#######################################\n",
        "####### HYPERPARAMETERS SEARCH ########\n",
        "#######################################\n",
        "save_path = './results_dir/glasses_noglasses_'+str(IMAGE_DIM)\n",
        "if os.path.exists(save_path):\n",
        "    shutil.rmtree(save_path)\n",
        "tuner = kt.RandomSearch(\n",
        "    hypermodel=build_model,\n",
        "    objective=\"val_accuracy\",\n",
        "    max_trials=RANDOM_TRIALS,\n",
        "    seed=RANDOM_SEED,\n",
        "    distribution_strategy=strategy,\n",
        "    directory=\"results_dir\",\n",
        "    project_name=\"glasses_noglasses_\"+str(IMAGE_DIM),\n",
        "    overwrite=False,\n",
        ")\n",
        "\n",
        "train_ds, validation_ds = get_train_val_datasets(\n",
        "    image_dim=IMAGE_DIM,\n",
        "    batch_size=BATCH_SIZE,\n",
        "    training_dir=TRAINING_DIR,\n",
        "    validation_dir=VALIDATION_DIR,\n",
        "    recache=RECACHE,\n",
        "    train_cache_path=TRAIN_CACHE_PATH,\n",
        "    val_cache_path=VAL_CACHE_PATH\n",
        ")\n",
        "\n",
        "#tensorboard_logs = './logs'\n",
        "#if os.path.exists(tensorboard_logs):\n",
        "#    shutil.rmtree(tensorboard_logs)\n",
        "\n",
        "earlystopping_callback = EarlyStopping(\"val_accuracy\",\n",
        "                                       patience=EARLYSTOPPING_PATIENCE,\n",
        "                                       restore_best_weights=True)\n",
        "#tensorboard_callback = TensorBoard(log_dir=tensorboard_logs)\n",
        "tuner.search(\n",
        "    train_ds,\n",
        "    validation_data=validation_ds,\n",
        "    epochs=EPOCHS,\n",
        "    verbose=2,\n",
        "    callbacks=[earlystopping_callback],\n",
        ")\n",
        "#######################################\n",
        "#######################################\n",
        "\n",
        "\n",
        "#######################################\n",
        "############ SAVE SUMMARY #############\n",
        "#######################################\n",
        "if os.environ['KERASTUNER_TUNER_ID'] == \"chief\":\n",
        "    save_path = './trials_{}_summary.pkl'.format(IMAGE_DIM)\n",
        "    if os.path.exists(save_path):\n",
        "        df = pd.read_pickle(save_path)\n",
        "    else:\n",
        "        df = pd.DataFrame(columns = tuner.get_best_hyperparameters()[0].values.keys())\n",
        "        df.insert(len(df.columns), 'image_size', [])\n",
        "        df.insert(len(df.columns), 'val_accuracy', [])\n",
        "    for trial in tuner.oracle.trials.values():\n",
        "        row = trial.hyperparameters.values.copy()\n",
        "        row['image_size'] = IMAGE_DIM\n",
        "        row['val_accuracy'] = trial.score\n",
        "        df = df.append(row, ignore_index=True)\n",
        "    df.to_pickle('./trials_{}_summary.pkl'.format(IMAGE_DIM))\n",
        "#######################################\n",
        "#######################################"
      ],
      "execution_count": null,
      "outputs": [
        {
          "output_type": "stream",
          "text": [
            "Writing main.py\n"
          ],
          "name": "stdout"
        }
      ]
    },
    {
      "cell_type": "markdown",
      "metadata": {
        "id": "S5DcFKNqGo6h"
      },
      "source": [
        "## 64x64 images"
      ]
    },
    {
      "cell_type": "code",
      "metadata": {
        "id": "lFpE_1-StdO2",
        "colab": {
          "base_uri": "https://localhost:8080/"
        },
        "outputId": "bb49c2d3-422a-40d7-dbdb-3ba9b7f271d3"
      },
      "source": [
        "%killbgscripts"
      ],
      "execution_count": null,
      "outputs": [
        {
          "output_type": "stream",
          "text": [
            "All background processes were killed.\n"
          ],
          "name": "stdout"
        }
      ]
    },
    {
      "cell_type": "code",
      "metadata": {
        "id": "vLqPMkdYx0Ri"
      },
      "source": [
        "#Set environmental variables to run distributed KerasTuner\n",
        "\n",
        "#Environmental variables for the main worker (collector)\n",
        "os.environ['KERASTUNER_TUNER_ID'] = \"chief\"\n",
        "os.environ['KERASTUNER_ORACLE_IP'] = \"localhost\"\n",
        "os.environ['KERASTUNER_ORACLE_PORT'] = \"{}\".format(portpicker.pick_unused_port())"
      ],
      "execution_count": null,
      "outputs": []
    },
    {
      "cell_type": "code",
      "metadata": {
        "colab": {
          "base_uri": "https://localhost:8080/"
        },
        "id": "ZAQYQsYNssKT",
        "outputId": "05790383-d70d-4d8e-a167-657718b8dba3"
      },
      "source": [
        "%%bash --bg\n",
        "python main.py 64 &> chief_64.log"
      ],
      "execution_count": null,
      "outputs": [
        {
          "output_type": "stream",
          "text": [
            "Starting job # 0 in a separate thread.\n"
          ],
          "name": "stdout"
        }
      ]
    },
    {
      "cell_type": "code",
      "metadata": {
        "id": "WVflDPg9VRix"
      },
      "source": [
        "time.sleep(2)"
      ],
      "execution_count": null,
      "outputs": []
    },
    {
      "cell_type": "code",
      "metadata": {
        "id": "1Cl7_Mf_3eKQ"
      },
      "source": [
        "#Environmental variables for the side worker\n",
        "os.environ['KERASTUNER_TUNER_ID'] = \"tuner0\""
      ],
      "execution_count": null,
      "outputs": []
    },
    {
      "cell_type": "code",
      "metadata": {
        "id": "eUU4zo59twc1"
      },
      "source": [
        "# We don't execute this process in backgroud because we want to know when it is\n",
        "# finished.\n",
        "# Tecnically this process should be run on every machine in our cluster, but\n",
        "# we run it locally since we don't have any cluster available.\n",
        "%%bash\n",
        "python main.py 64 &> tuner0_64.log"
      ],
      "execution_count": null,
      "outputs": []
    },
    {
      "cell_type": "code",
      "metadata": {
        "id": "Dik-AEgsPed2"
      },
      "source": [
        "#Wait until chief worker collect and write results\n",
        "time.sleep(10)"
      ],
      "execution_count": null,
      "outputs": []
    },
    {
      "cell_type": "markdown",
      "metadata": {
        "id": "D8ah3hewHBKi"
      },
      "source": [
        "## 128x128 images"
      ]
    },
    {
      "cell_type": "code",
      "metadata": {
        "id": "VBWHba-WPhVt",
        "colab": {
          "base_uri": "https://localhost:8080/"
        },
        "outputId": "9f2c507e-3a48-4488-9c3d-9cd6580d3d45"
      },
      "source": [
        "%killbgscripts"
      ],
      "execution_count": null,
      "outputs": [
        {
          "output_type": "stream",
          "text": [
            "All background processes were killed.\n"
          ],
          "name": "stdout"
        }
      ]
    },
    {
      "cell_type": "code",
      "metadata": {
        "id": "rDivd3JyHBKi"
      },
      "source": [
        "os.environ['KERASTUNER_TUNER_ID'] = \"chief\"\n",
        "os.environ['KERASTUNER_ORACLE_IP'] = \"localhost\"\n",
        "os.environ['KERASTUNER_ORACLE_PORT'] = \"{}\".format(portpicker.pick_unused_port())"
      ],
      "execution_count": null,
      "outputs": []
    },
    {
      "cell_type": "code",
      "metadata": {
        "colab": {
          "base_uri": "https://localhost:8080/"
        },
        "id": "jfNU7gZuHBKi",
        "outputId": "886f07ba-60db-4295-e798-a3feb3211a5d"
      },
      "source": [
        "%%bash --bg\n",
        "python main.py 128 &> chief_128.log"
      ],
      "execution_count": null,
      "outputs": [
        {
          "output_type": "stream",
          "text": [
            "Starting job # 2 in a separate thread.\n"
          ],
          "name": "stdout"
        }
      ]
    },
    {
      "cell_type": "code",
      "metadata": {
        "id": "vOzpu3s0VW7o"
      },
      "source": [
        "time.sleep(2)"
      ],
      "execution_count": null,
      "outputs": []
    },
    {
      "cell_type": "code",
      "metadata": {
        "id": "b5Wk4m8EHBKj"
      },
      "source": [
        "os.environ['KERASTUNER_TUNER_ID'] = \"tuner0\""
      ],
      "execution_count": null,
      "outputs": []
    },
    {
      "cell_type": "code",
      "metadata": {
        "id": "1SMIgmYnHBKj"
      },
      "source": [
        "%%bash\n",
        "python main.py 128 &> tuner0_128.log"
      ],
      "execution_count": null,
      "outputs": []
    },
    {
      "cell_type": "code",
      "metadata": {
        "id": "rvTGgDG5PixP"
      },
      "source": [
        "time.sleep(10)"
      ],
      "execution_count": null,
      "outputs": []
    },
    {
      "cell_type": "markdown",
      "metadata": {
        "id": "1iNU2b04HMwC"
      },
      "source": [
        "## 256x256 images"
      ]
    },
    {
      "cell_type": "code",
      "metadata": {
        "colab": {
          "base_uri": "https://localhost:8080/"
        },
        "id": "U-o76YR2Psze",
        "outputId": "afa7b75b-fd18-4ba6-fda9-e1e056bfa1ac"
      },
      "source": [
        "%killbgscripts"
      ],
      "execution_count": null,
      "outputs": [
        {
          "output_type": "stream",
          "text": [
            "All background processes were killed.\n"
          ],
          "name": "stdout"
        }
      ]
    },
    {
      "cell_type": "code",
      "metadata": {
        "id": "2Ac0o_kfHMwC"
      },
      "source": [
        "os.environ['KERASTUNER_TUNER_ID'] = \"chief\"\n",
        "os.environ['KERASTUNER_ORACLE_IP'] = \"localhost\"\n",
        "os.environ['KERASTUNER_ORACLE_PORT'] = \"{}\".format(portpicker.pick_unused_port())"
      ],
      "execution_count": null,
      "outputs": []
    },
    {
      "cell_type": "code",
      "metadata": {
        "colab": {
          "base_uri": "https://localhost:8080/"
        },
        "id": "oCnIK_vMHMwC",
        "outputId": "0b17c351-e293-41f6-ef8b-d9fe822ba59e"
      },
      "source": [
        "%%bash --bg\n",
        "python main.py 256 &> chief_256.log"
      ],
      "execution_count": null,
      "outputs": [
        {
          "output_type": "stream",
          "text": [
            "Starting job # 3 in a separate thread.\n"
          ],
          "name": "stdout"
        }
      ]
    },
    {
      "cell_type": "code",
      "metadata": {
        "id": "EnK30N5GVbUI"
      },
      "source": [
        "time.sleep(2)"
      ],
      "execution_count": null,
      "outputs": []
    },
    {
      "cell_type": "code",
      "metadata": {
        "id": "l-UsG4TiHMwD"
      },
      "source": [
        "os.environ['KERASTUNER_TUNER_ID'] = \"tuner0\""
      ],
      "execution_count": null,
      "outputs": []
    },
    {
      "cell_type": "code",
      "metadata": {
        "id": "DVU7mdXMHMwD"
      },
      "source": [
        "%%bash\n",
        "python main.py 256 &> tuner0_256.log"
      ],
      "execution_count": null,
      "outputs": []
    },
    {
      "cell_type": "code",
      "metadata": {
        "id": "fPaDXQlbPu7-"
      },
      "source": [
        "time.sleep(10)"
      ],
      "execution_count": null,
      "outputs": []
    },
    {
      "cell_type": "markdown",
      "metadata": {
        "id": "QQkqX3Ch3BHF"
      },
      "source": [
        "## Results analysis"
      ]
    },
    {
      "cell_type": "code",
      "metadata": {
        "colab": {
          "base_uri": "https://localhost:8080/",
          "height": 299
        },
        "id": "jyCMggjdM_ew",
        "cellView": "form",
        "outputId": "6eb8407b-0eb8-4bbf-8c60-8d8b65131dbe"
      },
      "source": [
        "#@markdown From the following plot we can see that the image size is not\n",
        "#@markdown particularly correlated with the validation accuracy (at least with\n",
        "#@markdown the sizes tested).  \n",
        "\n",
        "#Retrieve results\n",
        "df_64 = pd.read_pickle('./trials_64_summary.pkl')\n",
        "df_128 = pd.read_pickle('./trials_128_summary.pkl')\n",
        "df_256 = pd.read_pickle('./trials_256_summary.pkl')\n",
        "\n",
        "#Merge and plot results\n",
        "df = pd.DataFrame(columns = df_64.columns)\n",
        "df = df.append(df_64).append(df_128).append(df_256)\n",
        "df.groupby('image_size').mean().plot.bar()\n",
        "plt.show()"
      ],
      "execution_count": null,
      "outputs": [
        {
          "output_type": "display_data",
          "data": {
            "image/png": "[encoded data removed]",
            "text/plain": [
              "<Figure size 432x288 with 1 Axes>"
            ]
          },
          "metadata": {
            "tags": [],
            "needs_background": "light"
          }
        }
      ]
    },
    {
      "cell_type": "markdown",
      "metadata": {
        "id": "Fi0GqTEt3H0f"
      },
      "source": [
        "Training large images is expensive: the computational cost grows quadratic in the image size, since images have two dimensions. Given that the image sizes tested don't seem to be correlated with validation accuracy, subsequent analyzes will use 64x64 images."
      ]
    },
    {
      "cell_type": "markdown",
      "metadata": {
        "id": "87nYS1GZvJk2"
      },
      "source": [
        "# Hyperparameters random search"
      ]
    },
    {
      "cell_type": "markdown",
      "metadata": {
        "id": "bOrfTDD8Jv_P"
      },
      "source": [
        "We now try to find the optimal number of convolutional layers and the optimal optimizer.  \n",
        "It's hard to find the optimal value of the other hyperparameters, since they strictly depends on the number of convolutional layers."
      ]
    },
    {
      "cell_type": "code",
      "metadata": {
        "id": "dNQUHYOxRKbT",
        "colab": {
          "base_uri": "https://localhost:8080/"
        },
        "cellView": "form",
        "outputId": "55615d5c-fdad-4f40-df39-265c89ccc524"
      },
      "source": [
        "#@title main.py\n",
        "%%writefile main.py\n",
        "\n",
        "import sys, os, shutil, glob\n",
        "import pandas as pd\n",
        "import matplotlib.pyplot as plt\n",
        "import tensorflow as tf\n",
        "from tensorflow import keras\n",
        "from keras import Input, Sequential\n",
        "from keras.preprocessing.image import image_dataset_from_directory\n",
        "#from keras.layers import InputLayer, Dense, ReLU, Conv2D, MaxPooling2D,\\\n",
        "#    AveragePooling2D, GlobalMaxPooling2D, GlobalAveragePooling2D\n",
        "from keras.layers.experimental.preprocessing import Resizing, Rescaling,\\\n",
        "    RandomFlip, RandomTranslation, RandomRotation, RandomZoom, RandomContrast\n",
        "from keras.callbacks import EarlyStopping, TensorBoard\n",
        "import keras_tuner as kt\n",
        "\n",
        "\n",
        "print(\"KerasTuner Tuner ID: {}\".format(os.environ['KERASTUNER_TUNER_ID']))\n",
        "print(\"KerasTuner Oracle IP: {}\".format(os.environ['KERASTUNER_ORACLE_IP']))\n",
        "print(\"KerasTuner Oracle Port: {}\".format(os.environ['KERASTUNER_ORACLE_PORT']))\n",
        "\n",
        "\n",
        "#######################################\n",
        "############ SET VARIABLES ############\n",
        "#######################################\n",
        "strategy = tf.distribute.MirroredStrategy()\n",
        "\n",
        "#@markdown Preprocessing:\n",
        "IMAGE_DIM = 64 #@param {type:\"integer\"}\n",
        "if len(sys.argv)>1:\n",
        "    IMAGE_DIM = int(sys.argv[1]) #Override IMAGE_DIM when launching the script\n",
        "BATCH_SIZE_PER_REPLICA =  64#@param {type:\"integer\"}\n",
        "BATCH_SIZE = BATCH_SIZE_PER_REPLICA * strategy.num_replicas_in_sync\n",
        "\n",
        "TRAINING_DIR = './images_train-val-test/train' #@param {type:\"string\"}\n",
        "VALIDATION_DIR = './images_train-val-test/val' #@param {type:\"string\"}\n",
        "\n",
        "RECACHE = True #@param {type:\"boolean\"}\n",
        "TRAIN_CACHE_PATH = './train_cache_' #@param {type:\"string\"}\n",
        "VAL_CACHE_PATH = './validation_cache_' #@param {type:\"string\"}\n",
        "\n",
        "#@markdown Keras Tuner:\n",
        "RANDOM_TRIALS =  100#@param {type:\"integer\"}\n",
        "RANDOM_SEED = 1337 #@param {type:\"integer\"}\n",
        "EPOCHS = 50 #@param {type:\"integer\"}\n",
        "EARLYSTOPPING_PATIENCE = 10 #@param {type:\"integer\"}\n",
        "#######################################\n",
        "#######################################\n",
        "\n",
        "\n",
        "#######################################\n",
        "########## HELPER FUNCTIONS ###########\n",
        "#######################################\n",
        "def get_train_val_datasets(image_dim, batch_size, training_dir, validation_dir,\n",
        "                           recache, train_cache_path, val_cache_path):\n",
        "    \n",
        "    train_cache_path = train_cache_path + str(image_dim)\n",
        "    val_cache_path = val_cache_path + str(image_dim)\n",
        "\n",
        "    #Since caching doesn't overwrite old cache,\n",
        "    #we need to clear old cache before writing it again\n",
        "    if(recache):\n",
        "        for f in glob.glob(train_cache_path+\".*\"):\n",
        "            if os.path.exists(f):\n",
        "                os.remove(f)\n",
        "        for f in glob.glob(val_cache_path+\".*\"):\n",
        "            if os.path.exists(f):\n",
        "                os.remove(f)\n",
        "\n",
        "    rescale = keras.Sequential([\n",
        "        #Normalize values between 0 and 1\n",
        "        Rescaling(1./255)\n",
        "    ])\n",
        "\n",
        "    train_ds = image_dataset_from_directory(\n",
        "        directory=training_dir,\n",
        "        labels='inferred',\n",
        "        label_mode='binary',\n",
        "        batch_size=batch_size,\n",
        "        #resizing is done in the dataset to reduce the data sent to the replicas\n",
        "        image_size=(image_dim, image_dim),\n",
        "        interpolation='nearest')\n",
        "    train_ds = train_ds.map(lambda image, label:\\\n",
        "                            (rescale(image, training=True), label),\n",
        "                            num_parallel_calls=tf.data.AUTOTUNE)\n",
        "    #caching to file speeds up consequent readings (used with small dataset)\n",
        "    train_ds = train_ds.cache(train_cache_path)\n",
        "    train_ds = train_ds.shuffle(buffer_size=batch_size)\n",
        "    #prefetch makes CPU work in parallel with GPU\n",
        "    train_ds = train_ds.prefetch(buffer_size=tf.data.AUTOTUNE)\n",
        "\n",
        "    validation_ds = image_dataset_from_directory(\n",
        "        directory=validation_dir,\n",
        "        labels='inferred',\n",
        "        label_mode='binary',\n",
        "        batch_size=batch_size,\n",
        "        image_size=(image_dim, image_dim),\n",
        "        interpolation='nearest')\n",
        "    validation_ds = validation_ds.map(lambda image, label:\\\n",
        "                                      (rescale(image, training=True), label),\n",
        "                                      num_parallel_calls=tf.data.AUTOTUNE)\n",
        "    validation_ds = validation_ds.cache(val_cache_path)\n",
        "    validation_ds = validation_ds.prefetch(buffer_size=tf.data.AUTOTUNE)\n",
        "    \n",
        "    return train_ds, validation_ds\n",
        "\n",
        "\n",
        "def augmentation_model():\n",
        "    input = keras.Input(shape=(IMAGE_DIM, IMAGE_DIM, 3))\n",
        "\n",
        "    #Augmentation layers (they are automatically disabled during testing)\n",
        "    x = RandomFlip(mode=\"horizontal\")(input)\n",
        "    x = RandomTranslation(height_factor=0.2,\n",
        "                          width_factor=0.2,\n",
        "                          fill_mode=\"reflect\")(x)\n",
        "    x = RandomRotation(factor=0.125, #Max +-45degrees\n",
        "                       fill_mode=\"reflect\")(x)\n",
        "    x = RandomZoom(height_factor=0.25)(x)\n",
        "\n",
        "    return tf.keras.Model(input,x)\n",
        "\n",
        "\n",
        "def plot_augmented_images(dataset):\n",
        "    samples = dataset.take(1)\n",
        "    augmentation = augmentation_model()\n",
        "\n",
        "    for sample in samples:\n",
        "        images = sample[0]\n",
        "        aug_images = augmentation(images)\n",
        "        for image in aug_images:\n",
        "            plt.imshow((image*255).numpy().astype(np.uint8))\n",
        "            plt.show()\n",
        "\n",
        "\n",
        "def build_model(hp):\n",
        "    input = keras.Input(shape=(IMAGE_DIM, IMAGE_DIM, 3))\n",
        "  \n",
        "    augmentation = augmentation_model()\n",
        "    x = augmentation(input)\n",
        "\n",
        "    for i in range(hp.Int(\"conv_layers\", 1, 5, default=5)):\n",
        "        x = keras.layers.Conv2D(\n",
        "                filters=hp.Int(\"filters_\" + str(i), 8, 64, step=8, default=16),\n",
        "                kernel_size=3,\n",
        "                activation=\"relu\",\n",
        "                padding=\"same\",\n",
        "            )(x)\n",
        "\n",
        "        if hp.Choice(\"pooling_\" + str(i), [\"max\", \"avg\"]) == \"max\":\n",
        "            x = keras.layers.MaxPooling2D()(x)\n",
        "        else:\n",
        "            x = keras.layers.AveragePooling2D()(x)\n",
        "\n",
        "        x = keras.layers.BatchNormalization()(x)\n",
        "        x = keras.layers.ReLU()(x)\n",
        "\n",
        "    if hp.Choice(\"global_pooling\", [\"max\", \"avg\"]) == \"max\":\n",
        "        x = keras.layers.GlobalMaxPooling2D()(x)\n",
        "    else:\n",
        "        x = keras.layers.GlobalAveragePooling2D()(x)\n",
        "    x = keras.layers.Dense(8, activation=\"relu\")(x)\n",
        "    output = keras.layers.Dense(1, activation=\"sigmoid\")(x)\n",
        "\n",
        "    model = keras.Model(input, output)\n",
        "\n",
        "    optimizer = hp.Choice(\"optimizer\", [\"adam\", \"sgd\"])\n",
        "    model.compile(optimizer, loss=\"binary_crossentropy\", metrics=[\"accuracy\"])\n",
        "\n",
        "    return model\n",
        "#######################################\n",
        "#######################################\n",
        "\n",
        "\n",
        "#######################################\n",
        "####### HYPERPARAMETERS SEARCH ########\n",
        "#######################################\n",
        "save_path = './results_dir/glasses_noglasses_'+str(IMAGE_DIM)\n",
        "if os.path.exists(save_path):\n",
        "    shutil.rmtree(save_path)\n",
        "tuner = kt.RandomSearch(\n",
        "    hypermodel=build_model,\n",
        "    objective=\"val_accuracy\",\n",
        "    max_trials=RANDOM_TRIALS,\n",
        "    seed=RANDOM_SEED,\n",
        "    distribution_strategy=strategy,\n",
        "    directory=\"results_dir\",\n",
        "    project_name=\"glasses_noglasses_\"+str(IMAGE_DIM),\n",
        "    overwrite=False,\n",
        ")\n",
        "\n",
        "train_ds, validation_ds = get_train_val_datasets(\n",
        "    image_dim=IMAGE_DIM,\n",
        "    batch_size=BATCH_SIZE,\n",
        "    training_dir=TRAINING_DIR,\n",
        "    validation_dir=VALIDATION_DIR,\n",
        "    recache=RECACHE,\n",
        "    train_cache_path=TRAIN_CACHE_PATH,\n",
        "    val_cache_path=VAL_CACHE_PATH\n",
        ")\n",
        "\n",
        "#tensorboard_logs = './logs'\n",
        "#if os.path.exists(tensorboard_logs):\n",
        "#    shutil.rmtree(tensorboard_logs)\n",
        "\n",
        "earlystopping_callback = EarlyStopping(\"val_accuracy\",\n",
        "                                       patience=EARLYSTOPPING_PATIENCE,\n",
        "                                       restore_best_weights=True)\n",
        "#tensorboard_callback = TensorBoard(log_dir=tensorboard_logs)\n",
        "tuner.search(\n",
        "    train_ds,\n",
        "    validation_data=validation_ds,\n",
        "    epochs=EPOCHS,\n",
        "    verbose=2,\n",
        "    callbacks=[earlystopping_callback],\n",
        ")\n",
        "#######################################\n",
        "#######################################\n",
        "\n",
        "\n",
        "#######################################\n",
        "############ SAVE SUMMARY #############\n",
        "#######################################\n",
        "if os.environ['KERASTUNER_TUNER_ID'] == \"chief\":\n",
        "    save_path = './trials_{}_summary.pkl'.format(IMAGE_DIM)\n",
        "    if os.path.exists(save_path):\n",
        "        df = pd.read_pickle(save_path)\n",
        "    else:\n",
        "        df = pd.DataFrame(columns = tuner.get_best_hyperparameters()[0].values.keys())\n",
        "        df.insert(len(df.columns), 'image_size', [])\n",
        "        df.insert(len(df.columns), 'val_accuracy', [])\n",
        "    for trial in tuner.oracle.trials.values():\n",
        "        row = trial.hyperparameters.values.copy()\n",
        "        row['image_size'] = IMAGE_DIM\n",
        "        row['val_accuracy'] = trial.score\n",
        "        df = df.append(row, ignore_index=True)\n",
        "    df.to_pickle('./trials_{}_summary.pkl'.format(IMAGE_DIM))\n",
        "#######################################\n",
        "#######################################"
      ],
      "execution_count": null,
      "outputs": [
        {
          "output_type": "stream",
          "text": [
            "Overwriting main.py\n"
          ],
          "name": "stdout"
        }
      ]
    },
    {
      "cell_type": "markdown",
      "metadata": {
        "id": "8gwp83tvwBsm"
      },
      "source": [
        "## 64x64 images"
      ]
    },
    {
      "cell_type": "code",
      "metadata": {
        "colab": {
          "base_uri": "https://localhost:8080/"
        },
        "id": "bpPsa6c5wBsu",
        "outputId": "38e07257-9318-44c3-ae75-26ae9f2a49cc"
      },
      "source": [
        "%killbgscripts"
      ],
      "execution_count": null,
      "outputs": [
        {
          "output_type": "stream",
          "text": [
            "All background processes were killed.\n"
          ],
          "name": "stdout"
        }
      ]
    },
    {
      "cell_type": "code",
      "metadata": {
        "id": "Zgr2u3WBwBsu"
      },
      "source": [
        "#Set environmental variables to run distributed KerasTuner\n",
        "\n",
        "#Environmental variables for the main worker (collector)\n",
        "os.environ['KERASTUNER_TUNER_ID'] = \"chief\"\n",
        "os.environ['KERASTUNER_ORACLE_IP'] = \"localhost\"\n",
        "os.environ['KERASTUNER_ORACLE_PORT'] = \"{}\".format(portpicker.pick_unused_port())"
      ],
      "execution_count": null,
      "outputs": []
    },
    {
      "cell_type": "code",
      "metadata": {
        "colab": {
          "base_uri": "https://localhost:8080/"
        },
        "id": "TWUwKsxawBsu",
        "outputId": "e23e24d5-404c-4f60-9ae3-ba654b3b02ad"
      },
      "source": [
        "%%bash --bg\n",
        "python main.py 64 &> chief_64.log"
      ],
      "execution_count": null,
      "outputs": [
        {
          "output_type": "stream",
          "text": [
            "Starting job # 5 in a separate thread.\n"
          ],
          "name": "stdout"
        }
      ]
    },
    {
      "cell_type": "code",
      "metadata": {
        "id": "QzlvPg30VsGR"
      },
      "source": [
        "time.sleep(2)"
      ],
      "execution_count": null,
      "outputs": []
    },
    {
      "cell_type": "code",
      "metadata": {
        "id": "NRTptajbwBsu"
      },
      "source": [
        "#Environmental variables for the side worker\n",
        "os.environ['KERASTUNER_TUNER_ID'] = \"tuner0\""
      ],
      "execution_count": null,
      "outputs": []
    },
    {
      "cell_type": "code",
      "metadata": {
        "id": "1mRE3ovMwBsv"
      },
      "source": [
        "%%bash\n",
        "python main.py 64 &> tuner0_64.log"
      ],
      "execution_count": null,
      "outputs": []
    },
    {
      "cell_type": "code",
      "metadata": {
        "id": "rgb--xqwwBsv"
      },
      "source": [
        "time.sleep(10)"
      ],
      "execution_count": null,
      "outputs": []
    },
    {
      "cell_type": "markdown",
      "metadata": {
        "id": "N5pr1edJwEZX"
      },
      "source": [
        "## Results analysis"
      ]
    },
    {
      "cell_type": "code",
      "metadata": {
        "id": "AR3XhyZVb6u4",
        "colab": {
          "base_uri": "https://localhost:8080/",
          "height": 352
        },
        "cellView": "form",
        "outputId": "3d284ff7-357f-4351-c099-a09c36539f44"
      },
      "source": [
        "#@markdown From the following plots we can see that ['conv_layers' = 3] and \n",
        "#@markdown ['optimizer' = 'adam'] seem to be optimal choices for the number of \n",
        "#@markdown convolutional layers and the optimizer, respectively.\n",
        "df = pd.read_pickle('./trials_64_summary.pkl')\n",
        "\n",
        "fig, axs = plt.subplots(1, 2)\n",
        "fig.set_size_inches(11, 5)\n",
        "axs.ravel()\n",
        "df.groupby('conv_layers').mean()['val_accuracy'].plot.bar(ax = axs[0])\n",
        "df.groupby('optimizer').mean()['val_accuracy'].plot.bar(ax = axs[1])\n",
        "plt.show()"
      ],
      "execution_count": null,
      "outputs": [
        {
          "output_type": "display_data",
          "data": {
            "image/png": "[encoded data removed]",
            "text/plain": [
              "<Figure size 792x360 with 2 Axes>"
            ]
          },
          "metadata": {
            "tags": [],
            "needs_background": "light"
          }
        }
      ]
    },
    {
      "cell_type": "markdown",
      "metadata": {
        "id": "Uemeo2fEQB0G"
      },
      "source": [
        "# Average ensemble model\n",
        "We now perform the last random search with the new optimal choices made, we select a subset of the trained models to be part of an average ensemble model.\n",
        "The latter will be evaluated on the test set for the final accuracy score."
      ]
    },
    {
      "cell_type": "code",
      "metadata": {
        "colab": {
          "base_uri": "https://localhost:8080/"
        },
        "id": "Z13T7V9MQCeG",
        "cellView": "form",
        "outputId": "6e39cbb3-0a48-41d0-bbc0-6284a9b00518"
      },
      "source": [
        "#@title main.py\n",
        "%%writefile main.py\n",
        "\n",
        "import sys, os, shutil, glob\n",
        "import pandas as pd\n",
        "import matplotlib.pyplot as plt\n",
        "import tensorflow as tf\n",
        "from tensorflow import keras\n",
        "from keras import Input, Sequential\n",
        "from keras.preprocessing.image import image_dataset_from_directory\n",
        "#from keras.layers import InputLayer, Dense, ReLU, Conv2D, MaxPooling2D,\\\n",
        "#    AveragePooling2D, GlobalMaxPooling2D, GlobalAveragePooling2D\n",
        "from keras.layers.experimental.preprocessing import Resizing, Rescaling,\\\n",
        "    RandomFlip, RandomTranslation, RandomRotation, RandomZoom, RandomContrast\n",
        "from keras.callbacks import EarlyStopping, TensorBoard\n",
        "import keras_tuner as kt\n",
        "\n",
        "\n",
        "print(\"KerasTuner Tuner ID: {}\".format(os.environ['KERASTUNER_TUNER_ID']))\n",
        "print(\"KerasTuner Oracle IP: {}\".format(os.environ['KERASTUNER_ORACLE_IP']))\n",
        "print(\"KerasTuner Oracle Port: {}\".format(os.environ['KERASTUNER_ORACLE_PORT']))\n",
        "\n",
        "\n",
        "#######################################\n",
        "############ SET VARIABLES ############\n",
        "#######################################\n",
        "strategy = tf.distribute.MirroredStrategy()\n",
        "\n",
        "#@markdown Preprocessing:\n",
        "IMAGE_DIM = 64 #@param {type:\"integer\"}\n",
        "if len(sys.argv)>1:\n",
        "    IMAGE_DIM = int(sys.argv[1]) #Override IMAGE_DIM when launching the script\n",
        "BATCH_SIZE_PER_REPLICA =  64#@param {type:\"integer\"}\n",
        "BATCH_SIZE = BATCH_SIZE_PER_REPLICA * strategy.num_replicas_in_sync\n",
        "\n",
        "TRAINING_DIR = './images_train-val-test/train' #@param {type:\"string\"}\n",
        "VALIDATION_DIR = './images_train-val-test/val' #@param {type:\"string\"}\n",
        "\n",
        "RECACHE = False #@param {type:\"boolean\"}\n",
        "TRAIN_CACHE_PATH = './train_cache_' #@param {type:\"string\"}\n",
        "VAL_CACHE_PATH = './validation_cache_' #@param {type:\"string\"}\n",
        "\n",
        "#@markdown Keras Tuner:\n",
        "RANDOM_TRIALS =  150#@param {type:\"integer\"}\n",
        "RANDOM_SEED = 1337 #@param {type:\"integer\"}\n",
        "EPOCHS = 100 #@param {type:\"integer\"}\n",
        "EARLYSTOPPING_PATIENCE = 10 #@param {type:\"integer\"}\n",
        "\n",
        "#@markdown Saves:\n",
        "SAVED_MODELS = 100 #@param {type:\"integer\"}\n",
        "#######################################\n",
        "#######################################\n",
        "\n",
        "\n",
        "#######################################\n",
        "########## HELPER FUNCTIONS ###########\n",
        "#######################################\n",
        "def get_train_val_datasets(image_dim, batch_size, training_dir, validation_dir,\n",
        "                           recache, train_cache_path, val_cache_path):\n",
        "    \n",
        "    train_cache_path = train_cache_path + str(image_dim)\n",
        "    val_cache_path = val_cache_path + str(image_dim)\n",
        "\n",
        "    #Since caching doesn't overwrite old cache,\n",
        "    #we need to clear old cache before writing it again\n",
        "    if(recache):\n",
        "        for f in glob.glob(train_cache_path+\".*\"):\n",
        "            if os.path.exists(f):\n",
        "                os.remove(f)\n",
        "        for f in glob.glob(val_cache_path+\".*\"):\n",
        "            if os.path.exists(f):\n",
        "                os.remove(f)\n",
        "\n",
        "    rescale = keras.Sequential([\n",
        "        #Normalize values between 0 and 1\n",
        "        Rescaling(1./255)\n",
        "    ])\n",
        "\n",
        "    train_ds = image_dataset_from_directory(\n",
        "        directory=training_dir,\n",
        "        labels='inferred',\n",
        "        label_mode='binary',\n",
        "        batch_size=batch_size,\n",
        "        #resizing is done in the dataset to reduce the data sent to the replicas\n",
        "        image_size=(image_dim, image_dim),\n",
        "        interpolation='nearest')\n",
        "    train_ds = train_ds.map(lambda image, label:\\\n",
        "                            (rescale(image, training=True), label),\n",
        "                            num_parallel_calls=tf.data.AUTOTUNE)\n",
        "    #caching to file speeds up consequent readings (used with small dataset)\n",
        "    train_ds = train_ds.cache(train_cache_path)\n",
        "    train_ds = train_ds.shuffle(buffer_size=batch_size)\n",
        "    #prefetch makes CPU work in parallel with GPU\n",
        "    train_ds = train_ds.prefetch(buffer_size=tf.data.AUTOTUNE)\n",
        "\n",
        "    validation_ds = image_dataset_from_directory(\n",
        "        directory=validation_dir,\n",
        "        labels='inferred',\n",
        "        label_mode='binary',\n",
        "        batch_size=batch_size,\n",
        "        image_size=(image_dim, image_dim),\n",
        "        interpolation='nearest')\n",
        "    validation_ds = validation_ds.map(lambda image, label:\\\n",
        "                                      (rescale(image, training=True), label),\n",
        "                                      num_parallel_calls=tf.data.AUTOTUNE)\n",
        "    validation_ds = validation_ds.cache(val_cache_path)\n",
        "    validation_ds = validation_ds.prefetch(buffer_size=tf.data.AUTOTUNE)\n",
        "    \n",
        "    return train_ds, validation_ds\n",
        "\n",
        "\n",
        "def augmentation_model():\n",
        "    input = keras.Input(shape=(IMAGE_DIM, IMAGE_DIM, 3))\n",
        "\n",
        "    #Augmentation layers (they are automatically disabled during testing)\n",
        "    x = RandomFlip(mode=\"horizontal\")(input)\n",
        "    x = RandomTranslation(height_factor=0.2,\n",
        "                          width_factor=0.2,\n",
        "                          fill_mode=\"reflect\")(x)\n",
        "    x = RandomRotation(factor=0.125, #Max +-45degrees\n",
        "                       fill_mode=\"reflect\")(x)\n",
        "    x = RandomZoom(height_factor=0.25)(x)\n",
        "\n",
        "    return tf.keras.Model(input,x)\n",
        "\n",
        "\n",
        "def plot_augmented_images(dataset):\n",
        "    samples = dataset.take(1)\n",
        "    augmentation = augmentation_model()\n",
        "\n",
        "    for sample in samples:\n",
        "        images = sample[0]\n",
        "        aug_images = augmentation(images)\n",
        "        for image in aug_images:\n",
        "            plt.imshow((image*255).numpy().astype(np.uint8))\n",
        "            plt.show()\n",
        "\n",
        "\n",
        "def build_model(hp):\n",
        "    input = keras.Input(shape=(IMAGE_DIM, IMAGE_DIM, 3))\n",
        "  \n",
        "    augmentation = augmentation_model()\n",
        "    x = augmentation(input)\n",
        "\n",
        "    for i in range(hp.Fixed(\"conv_layers\", 3)):\n",
        "        x = keras.layers.Conv2D(\n",
        "                filters=hp.Int(\"filters_\" + str(i), 8, 64, step=8, default=16),\n",
        "                kernel_size=3,\n",
        "                activation=\"relu\",\n",
        "                padding=\"same\",\n",
        "            )(x)\n",
        "\n",
        "        if hp.Choice(\"pooling_\" + str(i), [\"max\", \"avg\"]) == \"max\":\n",
        "            x = keras.layers.MaxPooling2D()(x)\n",
        "        else:\n",
        "            x = keras.layers.AveragePooling2D()(x)\n",
        "\n",
        "        x = keras.layers.BatchNormalization()(x)\n",
        "        x = keras.layers.ReLU()(x)\n",
        "\n",
        "    if hp.Choice(\"global_pooling\", [\"max\", \"avg\"]) == \"max\":\n",
        "        x = keras.layers.GlobalMaxPooling2D()(x)\n",
        "    else:\n",
        "        x = keras.layers.GlobalAveragePooling2D()(x)\n",
        "    x = keras.layers.Dense(8, activation=\"relu\")(x)\n",
        "    output = keras.layers.Dense(1, activation=\"sigmoid\")(x)\n",
        "\n",
        "    model = keras.Model(input, output)\n",
        "\n",
        "    optimizer = hp.Fixed(\"optimizer\", \"adam\")\n",
        "    model.compile(optimizer, loss=\"binary_crossentropy\", metrics=[\"accuracy\"])\n",
        "\n",
        "    return model\n",
        "#######################################\n",
        "#######################################\n",
        "\n",
        "\n",
        "#######################################\n",
        "####### HYPERPARAMETERS SEARCH ########\n",
        "#######################################\n",
        "save_path = './results_dir/glasses_noglasses_'+str(IMAGE_DIM)\n",
        "if os.path.exists(save_path):\n",
        "    shutil.rmtree(save_path)\n",
        "tuner = kt.RandomSearch(\n",
        "    hypermodel=build_model,\n",
        "    objective=\"val_accuracy\",\n",
        "    max_trials=RANDOM_TRIALS,\n",
        "    seed=RANDOM_SEED,\n",
        "    distribution_strategy=strategy,\n",
        "    directory=\"results_dir\",\n",
        "    project_name=\"glasses_noglasses_\"+str(IMAGE_DIM),\n",
        "    overwrite=False,\n",
        ")\n",
        "\n",
        "train_ds, validation_ds = get_train_val_datasets(\n",
        "    image_dim=IMAGE_DIM,\n",
        "    batch_size=BATCH_SIZE,\n",
        "    training_dir=TRAINING_DIR,\n",
        "    validation_dir=VALIDATION_DIR,\n",
        "    recache=RECACHE,\n",
        "    train_cache_path=TRAIN_CACHE_PATH,\n",
        "    val_cache_path=VAL_CACHE_PATH\n",
        ")\n",
        "\n",
        "#tensorboard_logs = './logs'\n",
        "#if os.path.exists(tensorboard_logs):\n",
        "#    shutil.rmtree(tensorboard_logs)\n",
        "\n",
        "earlystopping_callback = EarlyStopping(\"val_accuracy\",\n",
        "                                       patience=EARLYSTOPPING_PATIENCE,\n",
        "                                       restore_best_weights=True)\n",
        "#tensorboard_callback = TensorBoard(log_dir=tensorboard_logs)\n",
        "tuner.search(\n",
        "    train_ds,\n",
        "    validation_data=validation_ds,\n",
        "    epochs=EPOCHS,\n",
        "    verbose=2,\n",
        "    callbacks=[earlystopping_callback],\n",
        ")\n",
        "#######################################\n",
        "#######################################\n",
        "\n",
        "\n",
        "#######################################\n",
        "############ SAVE SUMMARY #############\n",
        "#######################################\n",
        "if os.environ['KERASTUNER_TUNER_ID'] == \"chief\":\n",
        "    save_path = './trials_{}_summary.pkl'.format(IMAGE_DIM)\n",
        "    if os.path.exists(save_path):\n",
        "        df = pd.read_pickle(save_path)\n",
        "    else:\n",
        "        df = pd.DataFrame(columns = tuner.get_best_hyperparameters()[0].values.keys())\n",
        "        df.insert(len(df.columns), 'image_size', [])\n",
        "        df.insert(len(df.columns), 'val_accuracy', [])\n",
        "    for trial in tuner.oracle.trials.values():\n",
        "        row = trial.hyperparameters.values.copy()\n",
        "        row['image_size'] = IMAGE_DIM\n",
        "        row['val_accuracy'] = trial.score\n",
        "        df = df.append(row, ignore_index=True)\n",
        "    df.to_pickle('./trials_{}_summary.pkl'.format(IMAGE_DIM))\n",
        "#######################################\n",
        "#######################################\n",
        "\n",
        "\n",
        "#######################################\n",
        "########## SAVE BEST MODELS ###########\n",
        "#######################################\n",
        "i = 0\n",
        "for model in tuner.get_best_models(SAVED_MODELS):\n",
        "    model.save(\"./saved_models/model{}_{}\".format(IMAGE_DIM,i))\n",
        "    i += 1\n",
        "#######################################\n",
        "#######################################"
      ],
      "execution_count": null,
      "outputs": [
        {
          "output_type": "stream",
          "text": [
            "Writing main.py\n"
          ],
          "name": "stdout"
        }
      ]
    },
    {
      "cell_type": "markdown",
      "metadata": {
        "id": "DM1ePbTkRqQl"
      },
      "source": [
        "## 64x64 images"
      ]
    },
    {
      "cell_type": "code",
      "metadata": {
        "colab": {
          "base_uri": "https://localhost:8080/"
        },
        "id": "04nTKxXjRqQl",
        "outputId": "f4b08584-b5c6-4a57-f35a-9a1f35d7dc5e"
      },
      "source": [
        "%killbgscripts"
      ],
      "execution_count": null,
      "outputs": [
        {
          "output_type": "stream",
          "text": [
            "All background processes were killed.\n"
          ],
          "name": "stdout"
        }
      ]
    },
    {
      "cell_type": "code",
      "metadata": {
        "id": "QRVAmFg8RqQm"
      },
      "source": [
        "#Set environmental variables to run distributed KerasTuner\n",
        "\n",
        "#Environmental variables for the main worker (collector)\n",
        "os.environ['KERASTUNER_TUNER_ID'] = \"chief\"\n",
        "os.environ['KERASTUNER_ORACLE_IP'] = \"localhost\"\n",
        "os.environ['KERASTUNER_ORACLE_PORT'] = \"{}\".format(portpicker.pick_unused_port())"
      ],
      "execution_count": null,
      "outputs": []
    },
    {
      "cell_type": "code",
      "metadata": {
        "colab": {
          "base_uri": "https://localhost:8080/"
        },
        "id": "Mmr_stFqRqQm",
        "outputId": "18a80c68-1d2a-442c-d054-fd2496c508b4"
      },
      "source": [
        "%%bash --bg\n",
        "python main.py 64 &> chief_64.log"
      ],
      "execution_count": null,
      "outputs": [
        {
          "output_type": "stream",
          "text": [
            "Starting job # 0 in a separate thread.\n"
          ],
          "name": "stdout"
        }
      ]
    },
    {
      "cell_type": "code",
      "metadata": {
        "id": "bPDpFK8kVkyQ"
      },
      "source": [
        "time.sleep(2)"
      ],
      "execution_count": null,
      "outputs": []
    },
    {
      "cell_type": "code",
      "metadata": {
        "id": "teJcea6PRqQm"
      },
      "source": [
        "#Environmental variables for the side worker\n",
        "os.environ['KERASTUNER_TUNER_ID'] = \"tuner0\""
      ],
      "execution_count": null,
      "outputs": []
    },
    {
      "cell_type": "code",
      "metadata": {
        "id": "xYbCj3IJRqQm"
      },
      "source": [
        "%%bash\n",
        "python main.py 64 &> tuner0_64.log"
      ],
      "execution_count": null,
      "outputs": []
    },
    {
      "cell_type": "code",
      "metadata": {
        "id": "tYJz8iggVmpo"
      },
      "source": [
        "time.sleep(10)"
      ],
      "execution_count": null,
      "outputs": []
    },
    {
      "cell_type": "markdown",
      "metadata": {
        "id": "iL7ViKfwkKFG"
      },
      "source": [
        "## Ensemble model"
      ]
    },
    {
      "cell_type": "code",
      "metadata": {
        "colab": {
          "base_uri": "https://localhost:8080/"
        },
        "id": "CDldpbpncPAV",
        "cellView": "form",
        "outputId": "026beaea-7594-437d-afa3-d68a06e60977"
      },
      "source": [
        "#@markdown Prepare train, validation and test datasets\n",
        "rescale = keras.Sequential([\n",
        "    Rescaling(1./255)\n",
        "])\n",
        "\n",
        "train_ds = image_dataset_from_directory(\n",
        "    directory='./images_train-val-test/train',\n",
        "    labels='inferred',\n",
        "    label_mode='binary',\n",
        "    batch_size=64,\n",
        "    image_size=(64, 64),\n",
        "    interpolation='nearest')\n",
        "train_ds = train_ds.map(lambda image, label:\\\n",
        "                        (rescale(image, training=True), label),\n",
        "                        num_parallel_calls=tf.data.AUTOTUNE)\n",
        "train_ds = train_ds.cache('./train_cache_64')\n",
        "train_ds = train_ds.shuffle(buffer_size=64)\n",
        "train_ds = train_ds.prefetch(buffer_size=tf.data.AUTOTUNE)\n",
        "\n",
        "\n",
        "validation_ds = image_dataset_from_directory(\n",
        "    directory='./images_train-val-test/val',\n",
        "    labels='inferred',\n",
        "    label_mode='binary',\n",
        "    batch_size=64,\n",
        "    image_size=(64, 64),\n",
        "    interpolation='nearest')\n",
        "validation_ds = validation_ds.map(lambda image, label:\\\n",
        "                                  (rescale(image, training=True), label),\n",
        "                                  num_parallel_calls=tf.data.AUTOTUNE)\n",
        "validation_ds = validation_ds.cache('./validation_cache_64')\n",
        "validation_ds = validation_ds.prefetch(buffer_size=tf.data.AUTOTUNE)\n",
        "\n",
        "test_ds = image_dataset_from_directory(\n",
        "    directory='./images_train-val-test/test',\n",
        "    labels='inferred',\n",
        "    label_mode='binary',\n",
        "    batch_size=64,\n",
        "    image_size=(64, 64),\n",
        "    interpolation='nearest')\n",
        "test_ds = test_ds.map(lambda image, label:\\\n",
        "                      (rescale(image, training=True), label),\n",
        "                      num_parallel_calls=tf.data.AUTOTUNE)\n",
        "test_ds = test_ds.cache('./test_cache_64')\n",
        "test_ds = test_ds.prefetch(buffer_size=tf.data.AUTOTUNE)"
      ],
      "execution_count": null,
      "outputs": [
        {
          "output_type": "stream",
          "text": [
            "Found 3599 files belonging to 2 classes.\n",
            "Found 449 files belonging to 2 classes.\n",
            "Found 452 files belonging to 2 classes.\n"
          ],
          "name": "stdout"
        }
      ]
    },
    {
      "cell_type": "code",
      "metadata": {
        "id": "JYxK2tJKkcyp",
        "cellView": "form"
      },
      "source": [
        "#@markdown Load saved models\n",
        "models = []\n",
        "for model_path in glob.glob('./saved_models/*'):\n",
        "    models.append(keras.models.load_model(model_path))"
      ],
      "execution_count": null,
      "outputs": []
    },
    {
      "cell_type": "code",
      "metadata": {
        "colab": {
          "base_uri": "https://localhost:8080/",
          "height": 421
        },
        "cellView": "form",
        "id": "M7qEyuH-kxTG",
        "outputId": "93b310c3-bad7-45ab-ad8d-82feb2579ed6"
      },
      "source": [
        "#@markdown Visualize a random model\n",
        "\n",
        "visualkeras.layered_view(models[1],legend=True,spacing=10)"
      ],
      "execution_count": null,
      "outputs": [
        {
          "output_type": "execute_result",
          "data": {
            "image/png": "[encoded data removed]",
            "text/plain": [
              "<PIL.Image.Image image mode=RGBA size=566x404 at 0x7FADD9DB7310>"
            ]
          },
          "metadata": {
            "tags": []
          },
          "execution_count": 110
        }
      ]
    },
    {
      "cell_type": "code",
      "metadata": {
        "colab": {
          "base_uri": "https://localhost:8080/",
          "height": 200
        },
        "id": "YgDUqeitl_S_",
        "cellView": "form",
        "outputId": "91f68cf5-802d-457a-b606-18dab0ef74b5"
      },
      "source": [
        "#@markdown Select best models based on validation accuracy:\n",
        "VAL_ACC_THRESHOLD = 0.89 #@param\n",
        "print('Evaluated models:')\n",
        "selected_models =\\\n",
        "    [m for m in models if m.evaluate(validation_ds)[1]>VAL_ACC_THRESHOLD]\n",
        "\n",
        "display.Javascript(\"google.colab.output.setIframeHeight('200px');\")"
      ],
      "execution_count": null,
      "outputs": [
        {
          "output_type": "stream",
          "text": [
            "Evaluated models:\n",
            "8/8 [==============================] - 0s 5ms/step - loss: 0.2834 - accuracy: 0.8820\n",
            "8/8 [==============================] - 0s 5ms/step - loss: 0.3005 - accuracy: 0.8886\n",
            "8/8 [==============================] - 0s 5ms/step - loss: 0.3849 - accuracy: 0.8664\n",
            "8/8 [==============================] - 0s 5ms/step - loss: 0.3663 - accuracy: 0.8597\n",
            "8/8 [==============================] - 0s 5ms/step - loss: 0.3599 - accuracy: 0.8664\n",
            "8/8 [==============================] - 0s 5ms/step - loss: 0.3061 - accuracy: 0.8909\n",
            "8/8 [==============================] - 0s 6ms/step - loss: 0.2953 - accuracy: 0.8820\n",
            "8/8 [==============================] - 0s 5ms/step - loss: 0.3995 - accuracy: 0.8753\n",
            "8/8 [==============================] - 0s 5ms/step - loss: 0.3541 - accuracy: 0.8597\n",
            "8/8 [==============================] - 0s 5ms/step - loss: 0.3116 - accuracy: 0.8886\n",
            "8/8 [==============================] - 0s 6ms/step - loss: 0.3182 - accuracy: 0.8686\n",
            "8/8 [==============================] - 0s 6ms/step - loss: 0.3036 - accuracy: 0.8731\n",
            "8/8 [==============================] - 0s 5ms/step - loss: 0.3498 - accuracy: 0.8597\n",
            "8/8 [==============================] - 0s 6ms/step - loss: 0.3264 - accuracy: 0.8820\n",
            "8/8 [==============================] - 0s 5ms/step - loss: 0.3260 - accuracy: 0.8820\n",
            "8/8 [==============================] - 0s 5ms/step - loss: 0.3010 - accuracy: 0.8820\n",
            "8/8 [==============================] - 0s 6ms/step - loss: 0.3318 - accuracy: 0.8753\n",
            "8/8 [==============================] - 0s 6ms/step - loss: 0.3194 - accuracy: 0.8664\n",
            "8/8 [==============================] - 0s 5ms/step - loss: 0.3380 - accuracy: 0.8753\n",
            "8/8 [==============================] - 0s 5ms/step - loss: 0.3437 - accuracy: 0.8619\n",
            "8/8 [==============================] - 0s 5ms/step - loss: 0.3301 - accuracy: 0.8820\n",
            "8/8 [==============================] - 0s 6ms/step - loss: 0.3767 - accuracy: 0.8820\n",
            "8/8 [==============================] - 0s 5ms/step - loss: 0.3330 - accuracy: 0.8842\n",
            "8/8 [==============================] - 0s 5ms/step - loss: 0.4415 - accuracy: 0.8708\n",
            "8/8 [==============================] - 0s 5ms/step - loss: 0.3432 - accuracy: 0.8931\n",
            "8/8 [==============================] - 0s 5ms/step - loss: 0.3162 - accuracy: 0.8820\n",
            "8/8 [==============================] - 0s 6ms/step - loss: 0.3224 - accuracy: 0.8775\n",
            "8/8 [==============================] - 0s 5ms/step - loss: 0.3022 - accuracy: 0.8909\n",
            "8/8 [==============================] - 0s 6ms/step - loss: 0.3185 - accuracy: 0.8797\n",
            "8/8 [==============================] - 0s 7ms/step - loss: 0.3142 - accuracy: 0.8797\n",
            "8/8 [==============================] - 0s 5ms/step - loss: 0.3386 - accuracy: 0.8641\n",
            "8/8 [==============================] - 0s 5ms/step - loss: 0.4402 - accuracy: 0.8641\n",
            "8/8 [==============================] - 0s 5ms/step - loss: 0.3991 - accuracy: 0.8641\n",
            "8/8 [==============================] - 0s 6ms/step - loss: 0.3223 - accuracy: 0.8686\n",
            "8/8 [==============================] - 0s 6ms/step - loss: 0.3300 - accuracy: 0.8797\n",
            "8/8 [==============================] - 0s 5ms/step - loss: 0.3038 - accuracy: 0.8842\n",
            "8/8 [==============================] - 0s 5ms/step - loss: 0.3810 - accuracy: 0.8686\n",
            "8/8 [==============================] - 0s 5ms/step - loss: 0.3302 - accuracy: 0.8708\n",
            "8/8 [==============================] - 0s 6ms/step - loss: 0.3437 - accuracy: 0.8597\n",
            "8/8 [==============================] - 0s 5ms/step - loss: 0.2852 - accuracy: 0.8842\n",
            "8/8 [==============================] - 0s 6ms/step - loss: 0.3354 - accuracy: 0.8686\n",
            "8/8 [==============================] - 0s 5ms/step - loss: 0.3148 - accuracy: 0.8886\n",
            "8/8 [==============================] - 0s 6ms/step - loss: 0.3374 - accuracy: 0.8753\n",
            "8/8 [==============================] - 0s 6ms/step - loss: 0.3028 - accuracy: 0.8731\n",
            "8/8 [==============================] - 0s 5ms/step - loss: 0.3331 - accuracy: 0.8753\n",
            "8/8 [==============================] - 0s 5ms/step - loss: 0.3085 - accuracy: 0.8731\n",
            "8/8 [==============================] - 0s 6ms/step - loss: 0.3375 - accuracy: 0.8753\n",
            "8/8 [==============================] - 0s 5ms/step - loss: 0.3073 - accuracy: 0.8820\n",
            "8/8 [==============================] - 0s 5ms/step - loss: 0.3268 - accuracy: 0.8708\n",
            "8/8 [==============================] - 0s 5ms/step - loss: 0.3389 - accuracy: 0.8664\n",
            "8/8 [==============================] - 0s 5ms/step - loss: 0.3254 - accuracy: 0.8708\n",
            "8/8 [==============================] - 0s 5ms/step - loss: 0.3669 - accuracy: 0.8708\n",
            "8/8 [==============================] - 0s 4ms/step - loss: 0.3161 - accuracy: 0.8753\n",
            "8/8 [==============================] - 0s 5ms/step - loss: 0.3103 - accuracy: 0.8641\n",
            "8/8 [==============================] - 0s 5ms/step - loss: 0.3413 - accuracy: 0.8731\n",
            "8/8 [==============================] - 0s 5ms/step - loss: 0.3273 - accuracy: 0.8775\n",
            "8/8 [==============================] - 0s 6ms/step - loss: 0.3026 - accuracy: 0.8775\n",
            "8/8 [==============================] - 0s 6ms/step - loss: 0.3006 - accuracy: 0.8820\n",
            "8/8 [==============================] - 0s 5ms/step - loss: 0.3232 - accuracy: 0.8664\n",
            "8/8 [==============================] - 0s 6ms/step - loss: 0.3288 - accuracy: 0.8775\n",
            "8/8 [==============================] - 0s 5ms/step - loss: 0.3355 - accuracy: 0.8731\n",
            "8/8 [==============================] - 0s 6ms/step - loss: 0.3152 - accuracy: 0.8820\n",
            "8/8 [==============================] - 0s 6ms/step - loss: 0.3555 - accuracy: 0.8731\n",
            "8/8 [==============================] - 0s 5ms/step - loss: 0.3341 - accuracy: 0.8864\n",
            "8/8 [==============================] - 0s 5ms/step - loss: 0.3087 - accuracy: 0.8909\n",
            "8/8 [==============================] - 0s 5ms/step - loss: 0.3823 - accuracy: 0.8664\n",
            "8/8 [==============================] - 0s 5ms/step - loss: 0.3429 - accuracy: 0.8820\n",
            "8/8 [==============================] - 0s 5ms/step - loss: 0.3142 - accuracy: 0.8864\n",
            "8/8 [==============================] - 0s 4ms/step - loss: 0.2975 - accuracy: 0.8708\n",
            "8/8 [==============================] - 0s 7ms/step - loss: 0.2998 - accuracy: 0.8775\n",
            "8/8 [==============================] - 0s 6ms/step - loss: 0.2873 - accuracy: 0.8886\n",
            "8/8 [==============================] - 0s 6ms/step - loss: 0.3699 - accuracy: 0.8686\n",
            "8/8 [==============================] - 0s 5ms/step - loss: 0.3960 - accuracy: 0.8775\n",
            "8/8 [==============================] - 0s 5ms/step - loss: 0.3555 - accuracy: 0.8820\n",
            "8/8 [==============================] - 0s 5ms/step - loss: 0.3092 - accuracy: 0.8797\n",
            "8/8 [==============================] - 0s 5ms/step - loss: 0.2990 - accuracy: 0.8842\n",
            "8/8 [==============================] - 0s 5ms/step - loss: 0.3661 - accuracy: 0.8664\n",
            "8/8 [==============================] - 0s 6ms/step - loss: 0.2816 - accuracy: 0.8864\n",
            "8/8 [==============================] - 0s 5ms/step - loss: 0.3614 - accuracy: 0.8619\n",
            "8/8 [==============================] - 0s 5ms/step - loss: 0.3388 - accuracy: 0.8731\n",
            "8/8 [==============================] - 0s 5ms/step - loss: 0.3327 - accuracy: 0.8664\n",
            "8/8 [==============================] - 0s 5ms/step - loss: 0.3446 - accuracy: 0.8708\n",
            "8/8 [==============================] - 0s 6ms/step - loss: 0.3049 - accuracy: 0.8931\n",
            "8/8 [==============================] - 0s 5ms/step - loss: 0.3389 - accuracy: 0.8731\n",
            "8/8 [==============================] - 0s 5ms/step - loss: 0.2942 - accuracy: 0.8886\n",
            "8/8 [==============================] - 0s 5ms/step - loss: 0.3325 - accuracy: 0.8686\n",
            "8/8 [==============================] - 0s 5ms/step - loss: 0.3128 - accuracy: 0.8820\n",
            "8/8 [==============================] - 0s 6ms/step - loss: 0.3181 - accuracy: 0.8753\n",
            "8/8 [==============================] - 0s 5ms/step - loss: 0.3236 - accuracy: 0.8797\n",
            "8/8 [==============================] - 0s 5ms/step - loss: 0.3296 - accuracy: 0.8708\n",
            "8/8 [==============================] - 0s 5ms/step - loss: 0.3530 - accuracy: 0.8619\n",
            "8/8 [==============================] - 0s 6ms/step - loss: 0.3086 - accuracy: 0.8931\n",
            "8/8 [==============================] - 0s 5ms/step - loss: 0.3426 - accuracy: 0.8619\n",
            "8/8 [==============================] - 0s 5ms/step - loss: 0.3288 - accuracy: 0.8864\n",
            "8/8 [==============================] - 0s 5ms/step - loss: 0.3363 - accuracy: 0.8619\n",
            "8/8 [==============================] - 0s 5ms/step - loss: 0.2728 - accuracy: 0.8820\n",
            "8/8 [==============================] - 0s 5ms/step - loss: 0.3207 - accuracy: 0.8731\n",
            "8/8 [==============================] - 0s 5ms/step - loss: 0.3251 - accuracy: 0.8664\n",
            "8/8 [==============================] - 0s 6ms/step - loss: 0.3288 - accuracy: 0.8775\n",
            "8/8 [==============================] - 0s 4ms/step - loss: 0.3565 - accuracy: 0.8664\n"
          ],
          "name": "stdout"
        },
        {
          "output_type": "execute_result",
          "data": {
            "application/javascript": [
              "google.colab.output.setIframeHeight('200px');"
            ],
            "text/plain": [
              "<IPython.core.display.Javascript object>"
            ]
          },
          "metadata": {
            "tags": []
          },
          "execution_count": 43
        }
      ]
    },
    {
      "cell_type": "code",
      "metadata": {
        "id": "RF_aHZEsmS0u",
        "colab": {
          "base_uri": "https://localhost:8080/"
        },
        "cellView": "form",
        "outputId": "d191e9eb-f945-4281-d48a-0e43c323122f"
      },
      "source": [
        "#@markdown Build the final 'Average ensemble' model\n",
        "\n",
        "#Fix merge name conflict\n",
        "i = 0\n",
        "for model in selected_models:\n",
        "    model._name = \"model64_\" + str(i)\n",
        "    i += 1\n",
        "\n",
        "#Create an average ensemble for prediction\n",
        "input = keras.Input(shape=(64,64,3))\n",
        "y = [model(input) for model in selected_models]\n",
        "output = keras.layers.average(y)\n",
        "ensemble_model = keras.Model(inputs=input, outputs=output)\n",
        "ensemble_model.compile(optimizer=\"adam\",\n",
        "                       loss=\"binary_crossentropy\",\n",
        "                       metrics=[\"accuracy\"])\n",
        "print(\"Evaluation on validation data:\")\n",
        "ensemble_model.evaluate(validation_ds)\n",
        "print(\"Evaluation on test data:\")\n",
        "avg_ensemble_perf = ensemble_model.evaluate(test_ds)"
      ],
      "execution_count": null,
      "outputs": [
        {
          "output_type": "stream",
          "text": [
            "Evaluation on validation data:\n",
            "8/8 [==============================] - 1s 16ms/step - loss: 0.2811 - accuracy: 0.9065\n",
            "Evaluation on test data:\n",
            "8/8 [==============================] - 0s 16ms/step - loss: 0.2941 - accuracy: 0.8783\n"
          ],
          "name": "stdout"
        }
      ]
    },
    {
      "cell_type": "code",
      "metadata": {
        "id": "kMyQL2MKTKDM",
        "colab": {
          "base_uri": "https://localhost:8080/"
        },
        "cellView": "form",
        "outputId": "5f129f99-fa4a-4e61-8c2e-23badf77670f"
      },
      "source": [
        "#@markdown We make a comparison with a 'Majority voting ensemble', and we find\n",
        "#@markdown same performance of the 'Average ensemble' built before.\n",
        "\n",
        "#@markdown [Evaluated on test data]\n",
        "\n",
        "#Majority voting ensemble performance comparison\n",
        "predictions = [model.predict(test_ds) for model in selected_models]\n",
        "predictions = np.array(predictions)\n",
        "summed = np.sum(predictions, axis=0)\n",
        "predicted_labels = np.array([int(x==True) for x in summed/len(selected_models)>=0.5])\n",
        "\n",
        "true_labels = np.array([])\n",
        "for sample in test_ds.take(100):\n",
        "    for true_label in sample[1]:\n",
        "        true_labels = np.append(true_labels,true_label)\n",
        "\n",
        "maj_vot_perf = np.sum(predicted_labels==true_labels)/len(predicted_labels)\n",
        "print(\"'Average ensemble' performance: {:.5f}\".format(avg_ensemble_perf[1]))\n",
        "print(\"'Majority voting ensemble' performance: {:.5f}\".format(maj_vot_perf))"
      ],
      "execution_count": null,
      "outputs": [
        {
          "output_type": "stream",
          "text": [
            "'Average ensemble' performance: 0.87832\n",
            "'Majority voting ensemble' performance: 0.87832\n"
          ],
          "name": "stdout"
        }
      ]
    },
    {
      "cell_type": "markdown",
      "metadata": {
        "id": "s0jEDCK2CpXa"
      },
      "source": [
        "Since the 'Average ensemble' is easier to "
      ]
    },
    {
      "cell_type": "code",
      "metadata": {
        "colab": {
          "base_uri": "https://localhost:8080/",
          "height": 250
        },
        "id": "723vWX2VttRy",
        "cellView": "form",
        "outputId": "06440dac-9759-40c1-e9ad-065627dac6db"
      },
      "source": [
        "#@markdown We plot some wrong predicted images to examine where the classifier\n",
        "#@markdown fails:\n",
        "\n",
        "predicted = ensemble_model.predict(test_ds)\n",
        "\n",
        "fig, axs = plt.subplots(1,5)\n",
        "fig.set_size_inches(20,10)\n",
        "ax = 1\n",
        "i = 0\n",
        "for sample in test_ds.take(100):\n",
        "    images = sample[0]\n",
        "    true_labels = sample[1]\n",
        "    for true_label in true_labels:\n",
        "        #print(\"Predicted:{}  True:{}\".format(round(predicted[i][0]),true_label[0]))\n",
        "        predicted_label = round(predicted[i][0])\n",
        "        if predicted_label != true_label[0]:\n",
        "            plt.subplot(1,5,ax)\n",
        "            plt.imshow((images[i%64]*255).numpy().astype(np.uint8))\n",
        "            plt.title('Predicted:{}'.format('glasses' if predicted_label else 'no_glasses'))\n",
        "            plt.axis(\"off\")\n",
        "            ax += 1\n",
        "            if ax > 5:\n",
        "                break\n",
        "        i += 1\n",
        "    if ax > 5:\n",
        "        break\n",
        "        \n",
        "\n",
        "display.Javascript(\"google.colab.output.setIframeHeight('250px');\")"
      ],
      "execution_count": null,
      "outputs": [
        {
          "output_type": "execute_result",
          "data": {
            "application/javascript": [
              "google.colab.output.setIframeHeight('250px');"
            ],
            "text/plain": [
              "<IPython.core.display.Javascript object>"
            ]
          },
          "metadata": {
            "tags": []
          },
          "execution_count": 119
        },
        {
          "output_type": "display_data",
          "data": {
            "image/png": "[encoded data removed]",
            "text/plain": [
              "<Figure size 1440x720 with 5 Axes>"
            ]
          },
          "metadata": {
            "tags": [],
            "needs_background": "light"
          }
        }
      ]
    },
    {
      "cell_type": "markdown",
      "metadata": {
        "id": "hu1diaOZrG01"
      },
      "source": [
        "Apparently there are some errors in the true labels, since we find inconsistencies in some of the 'wrong predicted images' plotted.  \n",
        "In fact, even the author of the dataset draws attention to the presence of missclassified data.\n",
        "These label errors can be interpreted, in a statistical learning framework, as stochasticity in the label values. And all the errors contributes to the statistical Bayer error.  \n",
        "Therefore, we will never be able to retrieve a perfect classifier (but we can train longer and hope to get a better accuracy, since there are some true 'wrong predicted images')."
      ]
    },
    {
      "cell_type": "markdown",
      "metadata": {
        "id": "FguFr8IflBwY"
      },
      "source": [
        "# Extra: 512-dimensional latent vectors analysis"
      ]
    },
    {
      "cell_type": "code",
      "metadata": {
        "cellView": "form",
        "id": "g57iUy-pkSLt"
      },
      "source": [
        "#@markdown Prepare train, val and test sets\n",
        "latent_features = latent_features_csv.iloc[:,1:-1].compute().to_numpy()\n",
        "labels = latent_features_csv.iloc[:,-1].compute().to_numpy()\n",
        "\n",
        "latent_features_train,\\\n",
        "latent_features_val,\\\n",
        "labels_train,\\\n",
        "labels_val = train_test_split(\n",
        "    latent_features,\n",
        "    labels,\n",
        "    train_size=0.8,\n",
        "    random_state=1337,\n",
        "    stratify=labels)\n",
        "latent_features_val,\\\n",
        "latent_features_test,\\\n",
        "labels_val,\\\n",
        "labels_test = train_test_split(\n",
        "    latent_features_val,\n",
        "    labels_val,\n",
        "    train_size=0.5,\n",
        "    random_state=1337,\n",
        "    stratify=labels_val)"
      ],
      "execution_count": null,
      "outputs": []
    },
    {
      "cell_type": "code",
      "metadata": {
        "colab": {
          "base_uri": "https://localhost:8080/"
        },
        "cellView": "form",
        "id": "MEPA_eiZvOhm",
        "outputId": "69a597f0-a5b2-418c-c74f-653c5ad07252"
      },
      "source": [
        "#@markdown Build and train a toy neural network\n",
        "input_layer = Input(shape=(512,))\n",
        "x = Dense(128, activation=\"relu\")(input_layer)\n",
        "x = Dense(16, activation=\"relu\")(x)\n",
        "x = Dense(1, activation=\"sigmoid\")(x)\n",
        "latent_model = Model(input_layer, x)\n",
        "latent_model.compile(optimizer=\"adam\",\n",
        "                     loss='binary_crossentropy',\n",
        "                     metrics=['accuracy'])\n",
        "history = latent_model.fit(latent_features_train,\n",
        "                           labels_train,\n",
        "                           batch_size=64,\n",
        "                           epochs=5,\n",
        "                           validation_data=(latent_features_val,labels_val))"
      ],
      "execution_count": null,
      "outputs": [
        {
          "output_type": "stream",
          "text": [
            "Epoch 1/5\n",
            "57/57 [==============================] - 1s 7ms/step - loss: 0.4901 - accuracy: 0.7278 - val_loss: 0.1064 - val_accuracy: 0.9889\n",
            "Epoch 2/5\n",
            "57/57 [==============================] - 0s 3ms/step - loss: 0.0555 - accuracy: 0.9963 - val_loss: 0.0246 - val_accuracy: 0.9978\n",
            "Epoch 3/5\n",
            "57/57 [==============================] - 0s 3ms/step - loss: 0.0084 - accuracy: 1.0000 - val_loss: 0.0146 - val_accuracy: 0.9978\n",
            "Epoch 4/5\n",
            "57/57 [==============================] - 0s 3ms/step - loss: 0.0032 - accuracy: 1.0000 - val_loss: 0.0115 - val_accuracy: 0.9978\n",
            "Epoch 5/5\n",
            "57/57 [==============================] - 0s 3ms/step - loss: 0.0017 - accuracy: 1.0000 - val_loss: 0.0099 - val_accuracy: 0.9978\n"
          ],
          "name": "stdout"
        }
      ]
    },
    {
      "cell_type": "code",
      "metadata": {
        "colab": {
          "base_uri": "https://localhost:8080/"
        },
        "cellView": "form",
        "id": "V_DDvavMve1_",
        "outputId": "8376e8fa-895d-46a3-ff4a-c751e99dcf83"
      },
      "source": [
        "#@markdown Evaluate on test set\n",
        "res = latent_model.evaluate(latent_features_test, labels_test)"
      ],
      "execution_count": null,
      "outputs": [
        {
          "output_type": "stream",
          "text": [
            "15/15 [==============================] - 0s 2ms/step - loss: 0.0146 - accuracy: 0.9956\n"
          ],
          "name": "stdout"
        }
      ]
    }
  ]
}